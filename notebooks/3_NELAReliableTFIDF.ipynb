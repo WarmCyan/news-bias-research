{
 "cells": [
  {
   "cell_type": "markdown",
   "metadata": {},
   "source": [
    "# NELA Reliable TFIDF\n",
    "\n",
    "Created: 2019.10.2  \n",
    "Notebook sequence: 3\n",
    "\n",
    "For getting some of the articles for the reliable prediction test and creating TFIDF feature vectors with them  \n",
    "(scikit-learn has functions for TFIDF)\n",
    "\n",
    "---"
   ]
  },
  {
   "cell_type": "code",
   "execution_count": 1,
   "metadata": {},
   "outputs": [],
   "source": [
    "%load_ext autoreload\n",
    "%autoreload 2"
   ]
  },
  {
   "cell_type": "code",
   "execution_count": 2,
   "metadata": {},
   "outputs": [],
   "source": [
    "import util\n",
    "import pandas as pd\n",
    "from sklearn.feature_extraction.text import TfidfVectorizer"
   ]
  },
  {
   "cell_type": "code",
   "execution_count": 3,
   "metadata": {},
   "outputs": [],
   "source": [
    "alternet_docs = util.nela_load_articles_from_source(\"Alternet\")\n",
    "corpus = list(alternet_docs.content)\n",
    "vectorizer = TfidfVectorizer(max_features=10000)"
   ]
  },
  {
   "cell_type": "code",
   "execution_count": 4,
   "metadata": {},
   "outputs": [],
   "source": [
    "vectorizer.fit(corpus)\n",
    "tfidf_matrix = vectorizer.transform(corpus)"
   ]
  },
  {
   "cell_type": "code",
   "execution_count": 5,
   "metadata": {},
   "outputs": [],
   "source": [
    "tfidf_final_vectors = tfidf_matrix.todense().tolist()"
   ]
  },
  {
   "cell_type": "markdown",
   "metadata": {},
   "source": [
    "NOTE: even with lots of features, Tfidf seems to be relatively fast\n",
    "\n",
    "Don't forget you can run it with n-grams too, with `ngram_range` https://scikit-learn.org/stable/modules/generated/sklearn.feature_extraction.text.TfidfVectorizer.html"
   ]
  },
  {
   "cell_type": "code",
   "execution_count": 11,
   "metadata": {},
   "outputs": [
    {
     "data": {
      "text/plain": [
       "(10000, 6)"
      ]
     },
     "execution_count": 11,
     "metadata": {},
     "output_type": "execute_result"
    }
   ],
   "source": [
    "mbfc_df = pd.read_csv(\"../data/cache/mbfc_reliability.csv\")\n",
    "mbfc_df.shape"
   ]
  },
  {
   "cell_type": "code",
   "execution_count": 10,
   "metadata": {},
   "outputs": [
    {
     "data": {
      "text/html": [
       "<div>\n",
       "<style scoped>\n",
       "    .dataframe tbody tr th:only-of-type {\n",
       "        vertical-align: middle;\n",
       "    }\n",
       "\n",
       "    .dataframe tbody tr th {\n",
       "        vertical-align: top;\n",
       "    }\n",
       "\n",
       "    .dataframe thead th {\n",
       "        text-align: right;\n",
       "    }\n",
       "</style>\n",
       "<table border=\"1\" class=\"dataframe\">\n",
       "  <thead>\n",
       "    <tr style=\"text-align: right;\">\n",
       "      <th></th>\n",
       "      <th>Unnamed: 0</th>\n",
       "      <th>date</th>\n",
       "      <th>source</th>\n",
       "      <th>name</th>\n",
       "      <th>content</th>\n",
       "      <th>reliable</th>\n",
       "    </tr>\n",
       "  </thead>\n",
       "  <tbody>\n",
       "    <tr>\n",
       "      <td>155</td>\n",
       "      <td>155</td>\n",
       "      <td>2018-10-18</td>\n",
       "      <td>Al Jazeera</td>\n",
       "      <td>China defends internment camps for Uighur Muslims</td>\n",
       "      <td>NaN</td>\n",
       "      <td>1</td>\n",
       "    </tr>\n",
       "    <tr>\n",
       "      <td>1582</td>\n",
       "      <td>1582</td>\n",
       "      <td>2018-11-20</td>\n",
       "      <td>Mercury News</td>\n",
       "      <td>NaN</td>\n",
       "      <td>Wind, rain from first storm of season should d...</td>\n",
       "      <td>1</td>\n",
       "    </tr>\n",
       "    <tr>\n",
       "      <td>4561</td>\n",
       "      <td>4561</td>\n",
       "      <td>2018-11-29</td>\n",
       "      <td>USA Today</td>\n",
       "      <td>Trump dismantles climate efforts as warnings grow</td>\n",
       "      <td>NaN</td>\n",
       "      <td>1</td>\n",
       "    </tr>\n",
       "    <tr>\n",
       "      <td>4567</td>\n",
       "      <td>4567</td>\n",
       "      <td>2018-11-28</td>\n",
       "      <td>USA Today</td>\n",
       "      <td>Effort to vote on bill to protect Mueller blocked</td>\n",
       "      <td>NaN</td>\n",
       "      <td>1</td>\n",
       "    </tr>\n",
       "    <tr>\n",
       "      <td>4591</td>\n",
       "      <td>4591</td>\n",
       "      <td>2018-11-02</td>\n",
       "      <td>USA Today</td>\n",
       "      <td>Beto OaposRourke talks campaigning across Texa...</td>\n",
       "      <td>NaN</td>\n",
       "      <td>1</td>\n",
       "    </tr>\n",
       "    <tr>\n",
       "      <td>6099</td>\n",
       "      <td>6099</td>\n",
       "      <td>2018-11-22</td>\n",
       "      <td>Daily Signal</td>\n",
       "      <td>Podcast The History of Thanksgiving</td>\n",
       "      <td>NaN</td>\n",
       "      <td>0</td>\n",
       "    </tr>\n",
       "    <tr>\n",
       "      <td>9551</td>\n",
       "      <td>9551</td>\n",
       "      <td>2018-09-30</td>\n",
       "      <td>Veterans Today</td>\n",
       "      <td>NaN</td>\n",
       "      <td>US could use its Navy to prevent Russias poten...</td>\n",
       "      <td>0</td>\n",
       "    </tr>\n",
       "  </tbody>\n",
       "</table>\n",
       "</div>"
      ],
      "text/plain": [
       "      Unnamed: 0        date          source  \\\n",
       "155          155  2018-10-18      Al Jazeera   \n",
       "1582        1582  2018-11-20    Mercury News   \n",
       "4561        4561  2018-11-29       USA Today   \n",
       "4567        4567  2018-11-28       USA Today   \n",
       "4591        4591  2018-11-02       USA Today   \n",
       "6099        6099  2018-11-22    Daily Signal   \n",
       "9551        9551  2018-09-30  Veterans Today   \n",
       "\n",
       "                                                   name  \\\n",
       "155   China defends internment camps for Uighur Muslims   \n",
       "1582                                                NaN   \n",
       "4561  Trump dismantles climate efforts as warnings grow   \n",
       "4567  Effort to vote on bill to protect Mueller blocked   \n",
       "4591  Beto OaposRourke talks campaigning across Texa...   \n",
       "6099                Podcast The History of Thanksgiving   \n",
       "9551                                                NaN   \n",
       "\n",
       "                                                content  reliable  \n",
       "155                                                 NaN         1  \n",
       "1582  Wind, rain from first storm of season should d...         1  \n",
       "4561                                                NaN         1  \n",
       "4567                                                NaN         1  \n",
       "4591                                                NaN         1  \n",
       "6099                                                NaN         0  \n",
       "9551  US could use its Navy to prevent Russias poten...         0  "
      ]
     },
     "execution_count": 10,
     "metadata": {},
     "output_type": "execute_result"
    }
   ],
   "source": [
    "mbfc_df[mbfc_df.isnull().any(axis=1)]"
   ]
  },
  {
   "cell_type": "code",
   "execution_count": 15,
   "metadata": {},
   "outputs": [
    {
     "data": {
      "text/plain": [
       "(9995, 6)"
      ]
     },
     "execution_count": 15,
     "metadata": {},
     "output_type": "execute_result"
    }
   ],
   "source": [
    "mbfc_df[mbfc_df.content.notnull()].shape"
   ]
  }
 ],
 "metadata": {
  "kernelspec": {
   "display_name": "Python 3",
   "language": "python",
   "name": "python3"
  },
  "language_info": {
   "codemirror_mode": {
    "name": "ipython",
    "version": 3
   },
   "file_extension": ".py",
   "mimetype": "text/x-python",
   "name": "python",
   "nbconvert_exporter": "python",
   "pygments_lexer": "ipython3",
   "version": "3.7.4"
  }
 },
 "nbformat": 4,
 "nbformat_minor": 4
}
