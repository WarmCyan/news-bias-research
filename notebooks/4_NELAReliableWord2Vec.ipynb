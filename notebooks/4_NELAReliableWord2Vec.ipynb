{
 "cells": [
  {
   "cell_type": "markdown",
   "metadata": {},
   "source": [
    "# NELA Reliable Word2Vec\n",
    "\n",
    "Created: 2019.10.2  \n",
    "Notebook sequence: 4\n",
    "\n",
    "For getting some of the articles for the reliable prediction test and creating Word2Vec feature vectors with them  \n",
    "(gensim has functions for Word2Vec)\n",
    "\n",
    "---"
   ]
  },
  {
   "cell_type": "code",
   "execution_count": 1,
   "metadata": {},
   "outputs": [],
   "source": [
    "%load_ext autoreload\n",
    "%autoreload 2"
   ]
  },
  {
   "cell_type": "code",
   "execution_count": 2,
   "metadata": {},
   "outputs": [],
   "source": [
    "import util\n",
    "import pandas as pd\n",
    "from tqdm import tqdm_notebook as tqdm"
   ]
  },
  {
   "cell_type": "markdown",
   "metadata": {},
   "source": [
    "Note: there is a pre-trained word2vec model trained on the google news dataset\n",
    "\n",
    "(discovered from  \n",
    "https://www.shanelynn.ie/word-embeddings-in-python-with-spacy-and-gensim/  \n",
    "download at  \n",
    "https://drive.google.com/file/d/0B7XkCwpI5KDYNlNUTTlSS21pQmM/edit) (1.5G)"
   ]
  },
  {
   "cell_type": "code",
   "execution_count": 3,
   "metadata": {},
   "outputs": [],
   "source": [
    "import gensim"
   ]
  },
  {
   "cell_type": "code",
   "execution_count": 4,
   "metadata": {},
   "outputs": [],
   "source": [
    "w2v_model = gensim.models.KeyedVectors.load_word2vec_format('../data/raw/models/GoogleNews-vectors-negative300.bin', binary=True)"
   ]
  },
  {
   "cell_type": "code",
   "execution_count": 6,
   "metadata": {},
   "outputs": [],
   "source": [
    "alternet_docs = util.nela_load_articles_from_source(\"Alternet\")"
   ]
  },
  {
   "cell_type": "code",
   "execution_count": 17,
   "metadata": {},
   "outputs": [
    {
     "data": {
      "text/plain": [
       "\"Our Broken Politics Are Killing America's People with Legal Heroin Our broken politics are killing our people and threatening our country with legalized heroin Children in our district and across America are growing up with no mother because she died using Fentanyl Pills with the exact same biochemistry as heroin are being sold for billions to our children and our people There is no better proof of our broken political system than this fact While jobs health care and education suffer from chronic neglect in our broken political system the most dangerous aspect is an acute crisis that has been deliberately created by drug companies selling legal heroin while using profits to ensure its legal status That is the epitome of a broken political system We need look no further than our 21st congressional district and then across much of our nation to see the tragedy of our broken politics with the opioidheroin epidemic Across global history what nation's politics would not only allow but encourage the killing of their children in order that a few can make profits Over the last decades giant pharmaceutical companies such as Purdue have led an active campaign to push opioid abuse across the population most horrendously with our children leaving a trail of sorrow death and destruction across our communities At the same time these corporate drugpushers pocket billions of dollars Our broken politics are killing our children No society can survive that The only threat to our great potential is our own willingness to allow legal heroin as a product in our country How can we as parents friends and fellow Americans allow this to continue America will not be brought to its knees by any foreign threat but by our own greed and our own indifference The first step in fixing health care is ending this terrible epidemic and to do that we must fix our broken politics Together we can fix this Watch my video about this here\""
      ]
     },
     "execution_count": 17,
     "metadata": {},
     "output_type": "execute_result"
    }
   ],
   "source": [
    "document = util.clean_symbols(util.clean_newlines(alternet_docs.iloc[0].content))\n",
    "document"
   ]
  },
  {
   "cell_type": "code",
   "execution_count": 22,
   "metadata": {},
   "outputs": [],
   "source": [
    "doc_words = document.split(' ')\n",
    "\n",
    "#for doc in labeled_corpus:\n",
    "#    words = filter(lambda x: x in w2m_model.vocab, doc.words)\n",
    "\n",
    "doc_words = filter(lambda x: x in w2v_model.vocab, doc_words)\n",
    "#print(list(doc_words))\n",
    "vectors = [w2v_model[word] for word in doc_words]"
   ]
  },
  {
   "cell_type": "code",
   "execution_count": 23,
   "metadata": {},
   "outputs": [],
   "source": [
    "def vectorize_document(doc):\n",
    "    # clean it\n",
    "    doc = util.clean_symbols(util.clean_newlines(doc))\n",
    "    doc_words = document.split(' ')\n",
    "    doc_words = filter(lambda x: x in w2v_model.vocab, doc_words)\n",
    "    vectors = [w2v_model[word] for word in doc_words]"
   ]
  },
  {
   "cell_type": "code",
   "execution_count": 30,
   "metadata": {},
   "outputs": [
    {
     "data": {
      "application/vnd.jupyter.widget-view+json": {
       "model_id": "fe7c621f8433444ab7e45f05ce3cccf1",
       "version_major": 2,
       "version_minor": 0
      },
      "text/plain": [
       "HBox(children=(IntProgress(value=0, max=4816), HTML(value='')))"
      ]
     },
     "metadata": {},
     "output_type": "display_data"
    },
    {
     "name": "stdout",
     "output_type": "stream",
     "text": [
      "\n"
     ]
    }
   ],
   "source": [
    "for index, row in tqdm(alternet_docs.iterrows(), total=alternet_docs.shape[0]):\n",
    "    vectors = vectorize_document(row.content)"
   ]
  }
 ],
 "metadata": {
  "kernelspec": {
   "display_name": "Python 3",
   "language": "python",
   "name": "python3"
  },
  "language_info": {
   "codemirror_mode": {
    "name": "ipython",
    "version": 3
   },
   "file_extension": ".py",
   "mimetype": "text/x-python",
   "name": "python",
   "nbconvert_exporter": "python",
   "pygments_lexer": "ipython3",
   "version": "3.7.4"
  }
 },
 "nbformat": 4,
 "nbformat_minor": 4
}
