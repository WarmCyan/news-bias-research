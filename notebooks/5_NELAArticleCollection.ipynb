{
 "cells": [
  {
   "cell_type": "markdown",
   "metadata": {},
   "source": [
    "# NELA Article Collection\n",
    "\n",
    "Created: 2019.10.8  \n",
    "Notebook sequence: 5\n",
    "\n",
    "For getting code together to build the sets of articles to use for each indicator set\n",
    "\n",
    "---"
   ]
  },
  {
   "cell_type": "code",
   "execution_count": 1,
   "metadata": {},
   "outputs": [],
   "source": [
    "%load_ext autoreload\n",
    "%autoreload 2"
   ]
  },
  {
   "cell_type": "code",
   "execution_count": 2,
   "metadata": {},
   "outputs": [],
   "source": [
    "import util\n",
    "import pandas as pd\n",
    "from tqdm import tqdm_notebook as tqdm"
   ]
  },
  {
   "cell_type": "code",
   "execution_count": 3,
   "metadata": {},
   "outputs": [],
   "source": [
    "def random_balanced_sample(source_name_array, count, reject_minimum=100, force_balance=True, random_seed=13, verbose=True):\n",
    "    building_df = None\n",
    "    counts = {}\n",
    "    minimum_count = 100000000 # derp\n",
    "    returned_counts = {}\n",
    "    rejected = []\n",
    "    \n",
    "    for name in tqdm(source_name_array, \"Querying sources\", disable=(not verbose)):\n",
    "        local_df = util.nela_load_articles_from_source(name)\n",
    "        local_count = local_df.shape[0]\n",
    "        if verbose: print(name, local_count, \"articles\")\n",
    "        \n",
    "        if local_count < reject_minimum:\n",
    "            rejected.append(name)\n",
    "            if verbose: print(name, \"rejected\")\n",
    "            continue\n",
    "    \n",
    "        if local_count < minimum_count:\n",
    "            minimum_count = local_count\n",
    "    \n",
    "        counts[name] = local_count\n",
    "        building_df = util.stack_dfs(building_df, local_df)\n",
    "        \n",
    "    max_possible_balanced = minimum_count*len(counts.keys())\n",
    "    if verbose: print(max_possible_balanced,\"maximum possible balanced sample size\")\n",
    "        \n",
    "    sample_df = None\n",
    "    if count > max_possible_balanced:\n",
    "        if verbose: print(\"Grabbing maximum\")\n",
    "        if force_balance:\n",
    "            if verbose: print(\"Force balance requested, will not return\", count, \"as requested\")\n",
    "            \n",
    "            for name in tqdm(counts.keys(), \"Sampling\", disable=(not verbose)):\n",
    "                source_sample_df = building_df[building_df.source == name].sample(minimum_count, random_state=random_seed)\n",
    "                sample_df = util.stack_dfs(sample_df, source_sample_df)\n",
    "        \n",
    "        else:\n",
    "            print(\"WARNING: unbalanced output\")\n",
    "            \n",
    "            # TODO\n",
    "    else:\n",
    "        total_per = int(count / len(counts.keys()))\n",
    "        remainder = count % len(counts.keys())\n",
    "        if verbose: print(\"Grabbing\", total_per, \"per source\")\n",
    "        \n",
    "        for name in tqdm(counts.keys(), \"Sampling\", disable=(not verbose)):\n",
    "            sample_size = total_per\n",
    "            if remainder > 0: \n",
    "                sample_size += 1\n",
    "                remainder -= 1\n",
    "            source_sample_df = building_df[building_df.source == name].sample(sample_size, random_state=random_seed)\n",
    "            returned_counts[name] = source_sample_df.shape[0]\n",
    "            sample_df = util.stack_dfs(sample_df, source_sample_df)\n",
    "\n",
    "                \n",
    "    return sample_df, returned_counts, rejected\n",
    "    "
   ]
  },
  {
   "cell_type": "code",
   "execution_count": 4,
   "metadata": {},
   "outputs": [],
   "source": [
    "# see notebook 2\n",
    "os_unreliable = ['Addicting Info', 'Breitbart', 'CNS News', 'Intellihub', 'LewRockwell', 'NODISINFO', 'Politicus USA', 'Shareblue', 'The Duran', 'The Gateway Pundit', 'The Political Insider', 'The Washington Examiner', 'TheAntiMedia', 'True Activist', 'Veterans Today']\n",
    "os_reliable = ['Alternet', 'Fusion', 'oann']\n",
    "\n",
    "mbfc_unreliable = ['21stCenturyWire', 'Activist Post', 'Addicting Info', 'Alternet', 'Bearing Arms', 'Birmingham Mail', 'Buzzfeed', 'CNN', 'Counter Current News', 'Crooks and Liars', 'Daily Kos', 'Daily Signal', 'Drudge Report', 'Feministing Blog', 'Fox News', 'Fusion', 'GlobalResearch', 'HumansAreFree', 'Infowars', 'Intellihub', 'Investors Business Daily', 'Live Action', 'MSNBC', 'NODISINFO', 'National Review', 'Natural News', 'New York Daily News', 'New York Post', 'Newsweek', 'Palmer Report', 'Pravada Report', 'Prison Planet', 'Raw Story', 'RedState', 'RightWingWatch', 'Russia-Insider', 'Shareblue', 'Sputnik', 'Telesur TV', 'The Daily Caller', 'The Daily Express', 'The Daily Mirror', 'The Daily Record', 'The Daily Star', 'The Political Insider', 'The Right Scoop', 'The Sun', 'TheAntiMedia', 'TheBlaze', 'ThinkProgress', 'True Pundit', 'Veterans Today', 'Waking Times', 'Western Journal', 'Yahoo News', 'sott.net']\n",
    "mbfc_reliable = ['ABC News', 'Al Jazeera', 'BBC', 'Business Insider', 'CBS News', 'CNBC', 'Chicago Sun-Times', 'Daily Beast', 'Democracy 21', 'Evening Standard', 'FiveThirtyEight', 'Foreign Policy', 'Fortune', 'Forward Progessives', 'France24', 'Hot Air', 'Interpreter Mag', 'Media Matters for America', 'Mercury News', 'MotherJones', 'NPR', 'New Yorker', 'PBS', 'Pink News UK', 'Politico', 'Real Clear Politics', 'Reuters', 'Salon', 'Shadow Proof', 'SkyNewsPolitics', 'SkyNewsUS', 'Slate', 'Spiegel', 'Talking Points Memo', 'Tass', 'The American Conservative', 'The Atlantic', 'The Denver Post', 'The Fiscal Times', 'The Guardian', 'The Hill', 'The Huffington Post', 'The Independent', 'The Intercept', 'The Irish Times', 'The Moscow Times', 'The New York Times', 'The Telegraph', 'The Verge', 'The Washington Examiner', 'USA Today', 'Vox', 'Washington Monthly', 'Washington Post', 'Wings Over Scotland', 'iPolitics']\n",
    "\n",
    "ng_unreliable = ['Al Jazeera', 'Bipartisan Report', 'Breitbart', 'Daily Kos', 'Daily Mail', 'Drudge Report', 'FrontPage Magazine', 'Infowars', 'Instapundit', 'Live Action', 'Natural News', 'Palmer Report', 'Pamela Geller Report', 'RT', 'Shareblue', 'Sputnik', 'The Conservative Tree House', 'The Duran', 'The Gateway Pundit', 'The Political Insider', 'The Right Scoop', 'TheAntiMedia', 'TheBlaze', 'True Pundit', 'Western Journal']\n",
    "ng_reliable = ['ABC News', 'Alternet', 'BBC', 'Bearing Arms', 'Business Insider', 'Buzzfeed', 'CBS News', 'CNBC', 'CNN', 'CNS News', 'Chicago Sun-Times', 'Crooks and Liars', 'Daily Beast', 'Daily Signal', 'FT Westminster Blog', 'FiveThirtyEight', 'Foreign Policy', 'Fortune', 'Fox News', 'Investors Business Daily', 'MSNBC', 'Media Matters for America', 'Mercury News', 'MotherJones', 'NPR', 'National Review', 'New York Daily News', 'New York Post', 'New Yorker', 'News Busters', 'Newsweek', 'Observer', 'PBS', 'Politico', 'Politicus USA', 'Raw Story', 'Real Clear Politics', 'Reuters', 'Salon', 'Slate', 'Talking Points Memo', 'The American Conservative', 'The Atlantic', 'The Daily Caller', 'The Denver Post', 'The Guardian', 'The Hill', 'The Huffington Post', 'The Independent', 'The Intercept', 'The New York Times', 'The Verge', 'The Washington Examiner', 'ThinkProgress', 'USA Today', 'Vox', 'WSJ Washington Wire', 'Washington Monthly', 'Washington Post', 'Yahoo News']"
   ]
  },
  {
   "cell_type": "code",
   "execution_count": 5,
   "metadata": {},
   "outputs": [],
   "source": [
    "mbfc_biased = ['ABC News', 'Addicting Info', 'Al Jazeera', 'Alternet', 'BBC', 'Bearing Arms', 'Birmingham Mail', 'Business Insider', 'Buzzfeed', 'CBS News', 'CNBC', 'CNN', 'Chicago Sun-Times', 'Crooks and Liars', 'Daily Beast', 'Daily Kos', 'Daily Signal', 'Democracy 21', 'Drudge Report', 'Evening Standard', 'Feministing Blog', 'FiveThirtyEight', 'Fortune', 'Forward Progessives', 'Fox News', 'France24', 'Fusion', 'Hot Air', 'Interpreter Mag', 'Investors Business Daily', 'MSNBC', 'Media Matters for America', 'Mercury News', 'MotherJones', 'NPR', 'National Review', 'New York Daily News', 'New York Post', 'New Yorker', 'Newsweek', 'PBS', 'Palmer Report', 'Pink News UK', 'Pravada Report', 'Raw Story', 'Real Clear Politics', 'RedState', 'RightWingWatch', 'Russia-Insider', 'Salon', 'Shadow Proof', 'Shareblue', 'SkyNewsPolitics', 'SkyNewsUS', 'Slate', 'Spiegel', 'Sputnik', 'Talking Points Memo', 'Tass', 'Telesur TV', 'The American Conservative', 'The Atlantic', 'The Daily Caller', 'The Daily Express', 'The Daily Mirror', 'The Daily Record', 'The Denver Post', 'The Fiscal Times', 'The Guardian', 'The Hill', 'The Huffington Post', 'The Independent', 'The Intercept', 'The Irish Times', 'The Moscow Times', 'The New York Times', 'The Political Insider', 'The Right Scoop', 'The Sun', 'The Telegraph', 'The Verge', 'The Washington Examiner', 'TheBlaze', 'ThinkProgress', 'USA Today', 'Vox', 'Washington Monthly', 'Washington Post', 'Western Journal', 'Wings Over Scotland', 'Yahoo News', 'iPolitics']\n",
    "mbfc_unbiased = ['Foreign Policy', 'Politico', 'Reuters']\n",
    "\n",
    "as_biased = ['ABC News', 'Alternet', 'Breitbart', 'Buzzfeed', 'CBS News', 'CNN', 'CNS News', 'Chicago Sun-Times', 'Daily Beast', 'Daily Kos', 'Daily Mail', 'Daily Signal', 'Drudge Report', 'Fox News', 'FrontPage Magazine', 'Hot Air', 'Infowars', 'Intellectual Conservative', 'Investors Business Daily', 'Live Action', 'MSNBC', 'Media Matters for America', 'MotherJones', 'National Review', 'New York Daily News', 'New York Post', 'New Yorker', 'Newsweek', 'Politics UK', 'Politicus USA', 'Raw Story', 'RedState', 'RightWingWatch', 'Salon', 'Slate', 'The American Conservative', 'The Atlantic', 'The Daily Caller', 'The Fiscal Times', 'The Gateway Pundit', 'The Guardian', 'The Huffington Post', 'The Intercept', 'The Michelle Malkin Blog', 'The New York Times', 'The Telegraph', 'The Verge', 'The Washington Examiner', 'ThinkProgress', 'Vox', 'Washington Monthly', 'Washington Post', 'Western Journal', 'Yahoo News']\n",
    "as_unbiased = ['Al Jazeera', 'BBC', 'Business Insider', 'CNBC', 'FiveThirtyEight', 'NPR', 'PBS', 'Real Clear Politics', 'Reuters', 'The Hill', 'USA Today']"
   ]
  },
  {
   "cell_type": "code",
   "execution_count": 6,
   "metadata": {},
   "outputs": [
    {
     "data": {
      "application/vnd.jupyter.widget-view+json": {
       "model_id": "ba4a8eee2ace40efa2dc7bda6bad7161",
       "version_major": 2,
       "version_minor": 0
      },
      "text/plain": [
       "HBox(children=(IntProgress(value=0, description='Querying sources', max=15, style=ProgressStyle(description_wi…"
      ]
     },
     "metadata": {},
     "output_type": "display_data"
    },
    {
     "name": "stdout",
     "output_type": "stream",
     "text": [
      "Addicting Info 429 articles\n",
      "Breitbart 1877 articles\n",
      "CNS News 5263 articles\n",
      "Intellihub 334 articles\n",
      "LewRockwell 1278 articles\n",
      "NODISINFO 29 articles\n",
      "NODISINFO rejected\n",
      "Politicus USA 4018 articles\n",
      "Shareblue 2134 articles\n",
      "The Duran 959 articles\n",
      "The Gateway Pundit 5667 articles\n",
      "The Political Insider 2680 articles\n",
      "The Washington Examiner 469 articles\n",
      "TheAntiMedia 666 articles\n",
      "True Activist 370 articles\n",
      "Veterans Today 2624 articles\n",
      "\n",
      "4676 maximum possible balanced sample size\n",
      "Grabbing 321 per source\n"
     ]
    },
    {
     "data": {
      "application/vnd.jupyter.widget-view+json": {
       "model_id": "56e619534c9042ee98235f56e895cacb",
       "version_major": 2,
       "version_minor": 0
      },
      "text/plain": [
       "HBox(children=(IntProgress(value=0, description='Sampling', max=14, style=ProgressStyle(description_width='ini…"
      ]
     },
     "metadata": {},
     "output_type": "display_data"
    },
    {
     "name": "stdout",
     "output_type": "stream",
     "text": [
      "\n"
     ]
    }
   ],
   "source": [
    "df, counts, rejected = random_balanced_sample(os_unreliable, 4500)"
   ]
  },
  {
   "cell_type": "code",
   "execution_count": 7,
   "metadata": {},
   "outputs": [
    {
     "data": {
      "text/plain": [
       "{'Addicting Info': 322,\n",
       " 'Breitbart': 322,\n",
       " 'CNS News': 322,\n",
       " 'Intellihub': 322,\n",
       " 'LewRockwell': 322,\n",
       " 'Politicus USA': 322,\n",
       " 'Shareblue': 321,\n",
       " 'The Duran': 321,\n",
       " 'The Gateway Pundit': 321,\n",
       " 'The Political Insider': 321,\n",
       " 'The Washington Examiner': 321,\n",
       " 'TheAntiMedia': 321,\n",
       " 'True Activist': 321,\n",
       " 'Veterans Today': 321}"
      ]
     },
     "execution_count": 7,
     "metadata": {},
     "output_type": "execute_result"
    }
   ],
   "source": [
    "counts"
   ]
  },
  {
   "cell_type": "markdown",
   "metadata": {},
   "source": [
    "# OS Reliability"
   ]
  },
  {
   "cell_type": "code",
   "execution_count": 8,
   "metadata": {},
   "outputs": [
    {
     "name": "stdout",
     "output_type": "stream",
     "text": [
      "['Alternet', 'Fusion', 'oann']\n",
      "['Addicting Info', 'Breitbart', 'CNS News', 'Intellihub', 'LewRockwell', 'NODISINFO', 'Politicus USA', 'Shareblue', 'The Duran', 'The Gateway Pundit', 'The Political Insider', 'The Washington Examiner', 'TheAntiMedia', 'True Activist', 'Veterans Today']\n"
     ]
    }
   ],
   "source": [
    "print(os_reliable)\n",
    "print(os_unreliable)"
   ]
  },
  {
   "cell_type": "code",
   "execution_count": 16,
   "metadata": {},
   "outputs": [
    {
     "data": {
      "application/vnd.jupyter.widget-view+json": {
       "model_id": "782efbcdb3014272b7824f0164c34ccd",
       "version_major": 2,
       "version_minor": 0
      },
      "text/plain": [
       "HBox(children=(IntProgress(value=0, description='Querying sources', max=15, style=ProgressStyle(description_wi…"
      ]
     },
     "metadata": {},
     "output_type": "display_data"
    },
    {
     "name": "stdout",
     "output_type": "stream",
     "text": [
      "Addicting Info 429 articles\n",
      "Breitbart 1877 articles\n",
      "CNS News 5263 articles\n",
      "Intellihub 334 articles\n",
      "LewRockwell 1278 articles\n",
      "NODISINFO 29 articles\n",
      "NODISINFO rejected\n",
      "Politicus USA 4018 articles\n",
      "Shareblue 2134 articles\n",
      "The Duran 959 articles\n",
      "The Gateway Pundit 5667 articles\n",
      "The Political Insider 2680 articles\n",
      "The Washington Examiner 469 articles\n",
      "TheAntiMedia 666 articles\n",
      "True Activist 370 articles\n",
      "Veterans Today 2624 articles\n",
      "\n",
      "4676 maximum possible balanced sample size\n",
      "Grabbing maximum\n",
      "Force balance requested, will not return 5000 as requested\n"
     ]
    },
    {
     "data": {
      "application/vnd.jupyter.widget-view+json": {
       "model_id": "9cfc1e4ab6794b0b831377f3137ae85f",
       "version_major": 2,
       "version_minor": 0
      },
      "text/plain": [
       "HBox(children=(IntProgress(value=0, description='Sampling', max=14, style=ProgressStyle(description_width='ini…"
      ]
     },
     "metadata": {},
     "output_type": "display_data"
    },
    {
     "name": "stdout",
     "output_type": "stream",
     "text": [
      "\n"
     ]
    }
   ],
   "source": [
    "df_os_unreliable, os_unreliable_counts, os_unreliable_rejected = random_balanced_sample(os_unreliable, count=5000, reject_minimum=300)"
   ]
  },
  {
   "cell_type": "code",
   "execution_count": 17,
   "metadata": {},
   "outputs": [
    {
     "data": {
      "application/vnd.jupyter.widget-view+json": {
       "model_id": "a9a8f3550f2e4c89adceccad89590331",
       "version_major": 2,
       "version_minor": 0
      },
      "text/plain": [
       "HBox(children=(IntProgress(value=0, description='Querying sources', max=3, style=ProgressStyle(description_wid…"
      ]
     },
     "metadata": {},
     "output_type": "display_data"
    },
    {
     "name": "stdout",
     "output_type": "stream",
     "text": [
      "Alternet 4816 articles\n",
      "Fusion 141 articles\n",
      "Fusion rejected\n",
      "oann 14267 articles\n",
      "\n",
      "9632 maximum possible balanced sample size\n",
      "Grabbing 2338 per source\n"
     ]
    },
    {
     "data": {
      "application/vnd.jupyter.widget-view+json": {
       "model_id": "55bf343a33be46a18ad80a2afca660ad",
       "version_major": 2,
       "version_minor": 0
      },
      "text/plain": [
       "HBox(children=(IntProgress(value=0, description='Sampling', max=2, style=ProgressStyle(description_width='init…"
      ]
     },
     "metadata": {},
     "output_type": "display_data"
    },
    {
     "name": "stdout",
     "output_type": "stream",
     "text": [
      "\n"
     ]
    }
   ],
   "source": [
    "df_os_reliable, os_reliable_counts, os_reliable_rejected = random_balanced_sample(os_reliable, count=4676, reject_minimum=300)"
   ]
  },
  {
   "cell_type": "code",
   "execution_count": 19,
   "metadata": {},
   "outputs": [],
   "source": [
    "df_os_unreliable[\"reliable\"] = 0\n",
    "df_os_reliable[\"reliable\"] = 0\n",
    "\n",
    "df_os_reliability = util.stack_dfs(df_os_unreliable, df_os_reliable)"
   ]
  },
  {
   "cell_type": "markdown",
   "metadata": {},
   "source": [
    "# MBFC Reliability"
   ]
  },
  {
   "cell_type": "code",
   "execution_count": 21,
   "metadata": {},
   "outputs": [
    {
     "name": "stdout",
     "output_type": "stream",
     "text": [
      "['ABC News', 'Al Jazeera', 'BBC', 'Business Insider', 'CBS News', 'CNBC', 'Chicago Sun-Times', 'Daily Beast', 'Democracy 21', 'Evening Standard', 'FiveThirtyEight', 'Foreign Policy', 'Fortune', 'Forward Progessives', 'France24', 'Hot Air', 'Interpreter Mag', 'Media Matters for America', 'Mercury News', 'MotherJones', 'NPR', 'New Yorker', 'PBS', 'Pink News UK', 'Politico', 'Real Clear Politics', 'Reuters', 'Salon', 'Shadow Proof', 'SkyNewsPolitics', 'SkyNewsUS', 'Slate', 'Spiegel', 'Talking Points Memo', 'Tass', 'The American Conservative', 'The Atlantic', 'The Denver Post', 'The Fiscal Times', 'The Guardian', 'The Hill', 'The Huffington Post', 'The Independent', 'The Intercept', 'The Irish Times', 'The Moscow Times', 'The New York Times', 'The Telegraph', 'The Verge', 'The Washington Examiner', 'USA Today', 'Vox', 'Washington Monthly', 'Washington Post', 'Wings Over Scotland', 'iPolitics']\n",
      "['21stCenturyWire', 'Activist Post', 'Addicting Info', 'Alternet', 'Bearing Arms', 'Birmingham Mail', 'Buzzfeed', 'CNN', 'Counter Current News', 'Crooks and Liars', 'Daily Kos', 'Daily Signal', 'Drudge Report', 'Feministing Blog', 'Fox News', 'Fusion', 'GlobalResearch', 'HumansAreFree', 'Infowars', 'Intellihub', 'Investors Business Daily', 'Live Action', 'MSNBC', 'NODISINFO', 'National Review', 'Natural News', 'New York Daily News', 'New York Post', 'Newsweek', 'Palmer Report', 'Pravada Report', 'Prison Planet', 'Raw Story', 'RedState', 'RightWingWatch', 'Russia-Insider', 'Shareblue', 'Sputnik', 'Telesur TV', 'The Daily Caller', 'The Daily Express', 'The Daily Mirror', 'The Daily Record', 'The Daily Star', 'The Political Insider', 'The Right Scoop', 'The Sun', 'TheAntiMedia', 'TheBlaze', 'ThinkProgress', 'True Pundit', 'Veterans Today', 'Waking Times', 'Western Journal', 'Yahoo News', 'sott.net']\n"
     ]
    }
   ],
   "source": [
    "print(mbfc_reliable)\n",
    "print(mbfc_unreliable)"
   ]
  },
  {
   "cell_type": "code",
   "execution_count": 22,
   "metadata": {},
   "outputs": [
    {
     "data": {
      "application/vnd.jupyter.widget-view+json": {
       "model_id": "a9da324f8d46427995c886c3347ff33b",
       "version_major": 2,
       "version_minor": 0
      },
      "text/plain": [
       "HBox(children=(IntProgress(value=0, description='Querying sources', max=56, style=ProgressStyle(description_wi…"
      ]
     },
     "metadata": {},
     "output_type": "display_data"
    },
    {
     "name": "stdout",
     "output_type": "stream",
     "text": [
      "21stCenturyWire 322 articles\n",
      "Activist Post 1797 articles\n",
      "Addicting Info 429 articles\n",
      "Alternet 4816 articles\n",
      "Bearing Arms 1193 articles\n",
      "Birmingham Mail 9243 articles\n",
      "Buzzfeed 1661 articles\n",
      "CNN 8202 articles\n",
      "Counter Current News 23 articles\n",
      "Counter Current News rejected\n",
      "Crooks and Liars 2465 articles\n",
      "Daily Kos 994 articles\n",
      "Daily Signal 310 articles\n",
      "Drudge Report 18885 articles\n",
      "Feministing Blog 23 articles\n",
      "Feministing Blog rejected\n",
      "Fox News 3106 articles\n",
      "Fusion 141 articles\n",
      "Fusion rejected\n",
      "GlobalResearch 30 articles\n",
      "GlobalResearch rejected\n",
      "HumansAreFree 426 articles\n",
      "Infowars 2518 articles\n",
      "Intellihub 334 articles\n",
      "Investors Business Daily 730 articles\n",
      "Live Action 1054 articles\n",
      "MSNBC 6604 articles\n",
      "NODISINFO 29 articles\n",
      "NODISINFO rejected\n",
      "National Review 5129 articles\n",
      "Natural News 4187 articles\n",
      "New York Daily News 2042 articles\n",
      "New York Post 25407 articles\n",
      "Newsweek 9411 articles\n",
      "Palmer Report 3539 articles\n",
      "Pravada Report 601 articles\n",
      "Prison Planet 2253 articles\n",
      "Raw Story 3719 articles\n",
      "RedState 4808 articles\n",
      "RightWingWatch 1118 articles\n",
      "Russia-Insider 1030 articles\n",
      "Shareblue 2134 articles\n",
      "Sputnik 30372 articles\n",
      "Telesur TV 860 articles\n",
      "The Daily Caller 11550 articles\n",
      "The Daily Express 1585 articles\n",
      "The Daily Mirror 13202 articles\n",
      "The Daily Record 6981 articles\n",
      "The Daily Star 219 articles\n",
      "The Daily Star rejected\n",
      "The Political Insider 2680 articles\n",
      "The Right Scoop 2697 articles\n",
      "The Sun 43613 articles\n",
      "TheAntiMedia 666 articles\n",
      "TheBlaze 5287 articles\n",
      "ThinkProgress 4819 articles\n",
      "True Pundit 13660 articles\n",
      "Veterans Today 2624 articles\n",
      "Waking Times 447 articles\n",
      "Western Journal 4729 articles\n",
      "Yahoo News 1666 articles\n",
      "sott.net 9319 articles\n",
      "\n",
      "15500 maximum possible balanced sample size\n",
      "Grabbing 100 per source\n"
     ]
    },
    {
     "data": {
      "application/vnd.jupyter.widget-view+json": {
       "model_id": "65f4ff1b48d244bc982b06ac490a48d0",
       "version_major": 2,
       "version_minor": 0
      },
      "text/plain": [
       "HBox(children=(IntProgress(value=0, description='Sampling', max=50, style=ProgressStyle(description_width='ini…"
      ]
     },
     "metadata": {},
     "output_type": "display_data"
    },
    {
     "name": "stdout",
     "output_type": "stream",
     "text": [
      "\n"
     ]
    }
   ],
   "source": [
    "df_mbfc_unreliable, mbfc_unreliable_counts, mbfc_unreliable_rejected = random_balanced_sample(mbfc_unreliable, count=5000, reject_minimum=300)"
   ]
  },
  {
   "cell_type": "code",
   "execution_count": 23,
   "metadata": {},
   "outputs": [
    {
     "data": {
      "application/vnd.jupyter.widget-view+json": {
       "model_id": "58a56ae67fc54764a780b1efb1b5336e",
       "version_major": 2,
       "version_minor": 0
      },
      "text/plain": [
       "HBox(children=(IntProgress(value=0, description='Querying sources', max=56, style=ProgressStyle(description_wi…"
      ]
     },
     "metadata": {},
     "output_type": "display_data"
    },
    {
     "name": "stdout",
     "output_type": "stream",
     "text": [
      "ABC News 2808 articles\n",
      "Al Jazeera 4522 articles\n",
      "BBC 16416 articles\n",
      "Business Insider 445 articles\n",
      "CBS News 5397 articles\n",
      "CNBC 2426 articles\n",
      "Chicago Sun-Times 2113 articles\n",
      "Daily Beast 6634 articles\n",
      "Democracy 21 24 articles\n",
      "Democracy 21 rejected\n",
      "Evening Standard 17638 articles\n",
      "FiveThirtyEight 556 articles\n",
      "Foreign Policy 702 articles\n",
      "Fortune 7630 articles\n",
      "Forward Progessives 142 articles\n",
      "Forward Progessives rejected\n",
      "France24 1732 articles\n",
      "Hot Air 4642 articles\n",
      "Interpreter Mag 28 articles\n",
      "Interpreter Mag rejected\n",
      "Media Matters for America 2316 articles\n",
      "Mercury News 4828 articles\n",
      "MotherJones 1128 articles\n",
      "NPR 5515 articles\n",
      "New Yorker 265 articles\n",
      "New Yorker rejected\n",
      "PBS 1113 articles\n",
      "Pink News UK 1645 articles\n",
      "Politico 629 articles\n",
      "Real Clear Politics 7247 articles\n",
      "Reuters 3929 articles\n",
      "Salon 1702 articles\n",
      "Shadow Proof 260 articles\n",
      "Shadow Proof rejected\n",
      "SkyNewsPolitics 826 articles\n",
      "SkyNewsUS 995 articles\n",
      "Slate 514 articles\n",
      "Spiegel 4171 articles\n",
      "Talking Points Memo 5846 articles\n",
      "Tass 6160 articles\n",
      "The American Conservative 439 articles\n",
      "The Atlantic 1757 articles\n",
      "The Denver Post 4503 articles\n",
      "The Fiscal Times 461 articles\n",
      "The Guardian 2195 articles\n",
      "The Hill 1968 articles\n",
      "The Huffington Post 5586 articles\n",
      "The Independent 19799 articles\n",
      "The Intercept 1268 articles\n",
      "The Irish Times 3827 articles\n",
      "The Moscow Times 1137 articles\n",
      "The New York Times 5471 articles\n",
      "The Telegraph 33763 articles\n",
      "The Verge 5951 articles\n",
      "The Washington Examiner 469 articles\n",
      "USA Today 5968 articles\n",
      "Vox 4288 articles\n",
      "Washington Monthly 551 articles\n",
      "Washington Post 1252 articles\n",
      "Wings Over Scotland 147 articles\n",
      "Wings Over Scotland rejected\n",
      "iPolitics 4253 articles\n",
      "\n",
      "21950 maximum possible balanced sample size\n",
      "Grabbing 100 per source\n"
     ]
    },
    {
     "data": {
      "application/vnd.jupyter.widget-view+json": {
       "model_id": "ef567dae394b456abd46f7c71015526d",
       "version_major": 2,
       "version_minor": 0
      },
      "text/plain": [
       "HBox(children=(IntProgress(value=0, description='Sampling', max=50, style=ProgressStyle(description_width='ini…"
      ]
     },
     "metadata": {},
     "output_type": "display_data"
    },
    {
     "name": "stdout",
     "output_type": "stream",
     "text": [
      "\n"
     ]
    }
   ],
   "source": [
    "df_mbfc_reliable, mbfc_reliable_counts, mbfc_reliable_rejected = random_balanced_sample(mbfc_reliable, count=5000, reject_minimum=300)"
   ]
  },
  {
   "cell_type": "code",
   "execution_count": 24,
   "metadata": {},
   "outputs": [],
   "source": [
    "df_mbfc_unreliable[\"reliable\"] = 0\n",
    "df_mbfc_reliable[\"reliable\"] = 0\n",
    "\n",
    "df_mbfc_reliability = util.stack_dfs(df_mbfc_unreliable, df_mbfc_reliable)"
   ]
  },
  {
   "cell_type": "markdown",
   "metadata": {},
   "source": [
    "# NewsGuard Reliability"
   ]
  },
  {
   "cell_type": "code",
   "execution_count": 25,
   "metadata": {},
   "outputs": [
    {
     "name": "stdout",
     "output_type": "stream",
     "text": [
      "['ABC News', 'Alternet', 'BBC', 'Bearing Arms', 'Business Insider', 'Buzzfeed', 'CBS News', 'CNBC', 'CNN', 'CNS News', 'Chicago Sun-Times', 'Crooks and Liars', 'Daily Beast', 'Daily Signal', 'FT Westminster Blog', 'FiveThirtyEight', 'Foreign Policy', 'Fortune', 'Fox News', 'Investors Business Daily', 'MSNBC', 'Media Matters for America', 'Mercury News', 'MotherJones', 'NPR', 'National Review', 'New York Daily News', 'New York Post', 'New Yorker', 'News Busters', 'Newsweek', 'Observer', 'PBS', 'Politico', 'Politicus USA', 'Raw Story', 'Real Clear Politics', 'Reuters', 'Salon', 'Slate', 'Talking Points Memo', 'The American Conservative', 'The Atlantic', 'The Daily Caller', 'The Denver Post', 'The Guardian', 'The Hill', 'The Huffington Post', 'The Independent', 'The Intercept', 'The New York Times', 'The Verge', 'The Washington Examiner', 'ThinkProgress', 'USA Today', 'Vox', 'WSJ Washington Wire', 'Washington Monthly', 'Washington Post', 'Yahoo News']\n",
      "['Al Jazeera', 'Bipartisan Report', 'Breitbart', 'Daily Kos', 'Daily Mail', 'Drudge Report', 'FrontPage Magazine', 'Infowars', 'Instapundit', 'Live Action', 'Natural News', 'Palmer Report', 'Pamela Geller Report', 'RT', 'Shareblue', 'Sputnik', 'The Conservative Tree House', 'The Duran', 'The Gateway Pundit', 'The Political Insider', 'The Right Scoop', 'TheAntiMedia', 'TheBlaze', 'True Pundit', 'Western Journal']\n"
     ]
    }
   ],
   "source": [
    "print(ng_reliable)\n",
    "print(ng_unreliable)"
   ]
  },
  {
   "cell_type": "code",
   "execution_count": null,
   "metadata": {},
   "outputs": [],
   "source": []
  }
 ],
 "metadata": {
  "kernelspec": {
   "display_name": "Python 3",
   "language": "python",
   "name": "python3"
  },
  "language_info": {
   "codemirror_mode": {
    "name": "ipython",
    "version": 3
   },
   "file_extension": ".py",
   "mimetype": "text/x-python",
   "name": "python",
   "nbconvert_exporter": "python",
   "pygments_lexer": "ipython3",
   "version": "3.7.4"
  }
 },
 "nbformat": 4,
 "nbformat_minor": 4
}
