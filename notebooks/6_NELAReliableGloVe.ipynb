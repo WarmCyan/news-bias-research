{
 "cells": [
  {
   "cell_type": "markdown",
   "metadata": {},
   "source": [
    "# NELA Reliable GloVe\n",
    "\n",
    "Created: 2019.10.10  \n",
    "Notebook sequence: 6\n",
    "\n",
    "For getting articles for reliable prediction test and making GloVe embeddings with them\n",
    "\n",
    "---"
   ]
  },
  {
   "cell_type": "code",
   "execution_count": 1,
   "metadata": {},
   "outputs": [],
   "source": [
    "%load_ext autoreload\n",
    "%autoreload 2"
   ]
  },
  {
   "cell_type": "code",
   "execution_count": 2,
   "metadata": {},
   "outputs": [],
   "source": [
    "import util\n",
    "import pandas as pd\n",
    "from tqdm import tqdm_notebook as tqdm"
   ]
  },
  {
   "cell_type": "markdown",
   "metadata": {},
   "source": [
    "Pre-trained embeddings obtained from \n",
    "\n",
    "https://nlp.stanford.edu/projects/glove/\n",
    "\n",
    "NOTE: will be using same as word2vec: https://radimrehurek.com/gensim/scripts/glove2word2vec.html"
   ]
  },
  {
   "cell_type": "code",
   "execution_count": 4,
   "metadata": {},
   "outputs": [
    {
     "data": {
      "text/plain": [
       "(2196017, 300)"
      ]
     },
     "execution_count": 4,
     "metadata": {},
     "output_type": "execute_result"
    }
   ],
   "source": [
    "from gensim.scripts.glove2word2vec import glove2word2vec\n",
    "\n",
    "glove2word2vec(\"../data/raw/models/glove.840B.300d.txt\", \"../data/cache/models/glove2word2vec_pretrained.model\")"
   ]
  },
  {
   "cell_type": "code",
   "execution_count": 7,
   "metadata": {},
   "outputs": [],
   "source": [
    "import gensim\n",
    "glove_model = gensim.models.KeyedVectors.load_word2vec_format(\"../data/cache/models/glove2word2vec_pretrained.model\")"
   ]
  },
  {
   "cell_type": "code",
   "execution_count": 8,
   "metadata": {},
   "outputs": [
    {
     "data": {
      "text/plain": [
       "\"Our Broken Politics Are Killing America's People with Legal Heroin Our broken politics are killing our people and threatening our country with legalized heroin Children in our district and across America are growing up with no mother because she died using Fentanyl Pills with the exact same biochemistry as heroin are being sold for billions to our children and our people There is no better proof of our broken political system than this fact While jobs health care and education suffer from chronic neglect in our broken political system the most dangerous aspect is an acute crisis that has been deliberately created by drug companies selling legal heroin while using profits to ensure its legal status That is the epitome of a broken political system We need look no further than our 21st congressional district and then across much of our nation to see the tragedy of our broken politics with the opioidheroin epidemic Across global history what nation's politics would not only allow but encourage the killing of their children in order that a few can make profits Over the last decades giant pharmaceutical companies such as Purdue have led an active campaign to push opioid abuse across the population most horrendously with our children leaving a trail of sorrow death and destruction across our communities At the same time these corporate drugpushers pocket billions of dollars Our broken politics are killing our children No society can survive that The only threat to our great potential is our own willingness to allow legal heroin as a product in our country How can we as parents friends and fellow Americans allow this to continue America will not be brought to its knees by any foreign threat but by our own greed and our own indifference The first step in fixing health care is ending this terrible epidemic and to do that we must fix our broken politics Together we can fix this Watch my video about this here\""
      ]
     },
     "execution_count": 8,
     "metadata": {},
     "output_type": "execute_result"
    }
   ],
   "source": [
    "alternet_docs = util.nela_load_articles_from_source(\"Alternet\")\n",
    "document = util.clean_symbols(util.clean_newlines(alternet_docs.iloc[0].content))\n",
    "document"
   ]
  },
  {
   "cell_type": "code",
   "execution_count": 10,
   "metadata": {},
   "outputs": [],
   "source": [
    "# NOTE: same as in nb 4\n",
    "doc_words = document.split(' ')\n",
    "\n",
    "doc_words = filter(lambda x: x in glove_model.vocab, doc_words)\n",
    "vectors = [glove_model[word] for word in doc_words]"
   ]
  },
  {
   "cell_type": "code",
   "execution_count": 11,
   "metadata": {},
   "outputs": [],
   "source": [
    "def vectorize_document(doc):\n",
    "    # clean it\n",
    "    doc = util.clean_symbols(util.clean_newlines(doc))\n",
    "    doc_words = document.split(' ')\n",
    "    doc_words = filter(lambda x: x in glove_model.vocab, doc_words)\n",
    "    vectors = [glove_model[word] for word in doc_words]"
   ]
  },
  {
   "cell_type": "code",
   "execution_count": 12,
   "metadata": {},
   "outputs": [
    {
     "data": {
      "application/vnd.jupyter.widget-view+json": {
       "model_id": "fa48eae43f394ac69d9105f7ec517e39",
       "version_major": 2,
       "version_minor": 0
      },
      "text/plain": [
       "HBox(children=(IntProgress(value=0, max=4816), HTML(value='')))"
      ]
     },
     "metadata": {},
     "output_type": "display_data"
    },
    {
     "name": "stdout",
     "output_type": "stream",
     "text": [
      "\n"
     ]
    }
   ],
   "source": [
    "for index, row in tqdm(alternet_docs.iterrows(), total=alternet_docs.shape[0]):\n",
    "    vectors = vectorize_document(row.content)"
   ]
  }
 ],
 "metadata": {
  "kernelspec": {
   "display_name": "Python 3",
   "language": "python",
   "name": "python3"
  },
  "language_info": {
   "codemirror_mode": {
    "name": "ipython",
    "version": 3
   },
   "file_extension": ".py",
   "mimetype": "text/x-python",
   "name": "python",
   "nbconvert_exporter": "python",
   "pygments_lexer": "ipython3",
   "version": "3.7.4"
  }
 },
 "nbformat": 4,
 "nbformat_minor": 4
}
