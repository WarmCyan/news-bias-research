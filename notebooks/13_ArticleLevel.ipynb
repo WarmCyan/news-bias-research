{
 "cells": [
  {
   "cell_type": "code",
   "execution_count": 1,
   "metadata": {},
   "outputs": [],
   "source": [
    "import pandas as pd"
   ]
  },
  {
   "cell_type": "code",
   "execution_count": 3,
   "metadata": {},
   "outputs": [
    {
     "data": {
      "text/html": [
       "<div>\n",
       "<style scoped>\n",
       "    .dataframe tbody tr th:only-of-type {\n",
       "        vertical-align: middle;\n",
       "    }\n",
       "\n",
       "    .dataframe tbody tr th {\n",
       "        vertical-align: top;\n",
       "    }\n",
       "\n",
       "    .dataframe thead th {\n",
       "        text-align: right;\n",
       "    }\n",
       "</style>\n",
       "<table border=\"1\" class=\"dataframe\">\n",
       "  <thead>\n",
       "    <tr style=\"text-align: right;\">\n",
       "      <th></th>\n",
       "      <th>Source</th>\n",
       "      <th>Url</th>\n",
       "      <th>Bias</th>\n",
       "      <th>Quality</th>\n",
       "    </tr>\n",
       "  </thead>\n",
       "  <tbody>\n",
       "    <tr>\n",
       "      <th>0</th>\n",
       "      <td>ABC</td>\n",
       "      <td>https://abcnews.go.com/Politics/us-disrupted-a...</td>\n",
       "      <td>-5.33</td>\n",
       "      <td>52.33</td>\n",
       "    </tr>\n",
       "    <tr>\n",
       "      <th>1</th>\n",
       "      <td>ABC</td>\n",
       "      <td>https://abcnews.go.com/Politics/appeals-court-...</td>\n",
       "      <td>0.67</td>\n",
       "      <td>51.67</td>\n",
       "    </tr>\n",
       "    <tr>\n",
       "      <th>2</th>\n",
       "      <td>ABC</td>\n",
       "      <td>https://abcnews.go.com/Politics/electoral-coll...</td>\n",
       "      <td>-10.00</td>\n",
       "      <td>32.00</td>\n",
       "    </tr>\n",
       "    <tr>\n",
       "      <th>3</th>\n",
       "      <td>ABC</td>\n",
       "      <td>https://abcnews.go.com/Politics/facebook-agree...</td>\n",
       "      <td>-2.33</td>\n",
       "      <td>52.33</td>\n",
       "    </tr>\n",
       "    <tr>\n",
       "      <th>4</th>\n",
       "      <td>ABC</td>\n",
       "      <td>https://abcnews.go.com/Politics/donald-trump-t...</td>\n",
       "      <td>-4.33</td>\n",
       "      <td>52.67</td>\n",
       "    </tr>\n",
       "    <tr>\n",
       "      <th>...</th>\n",
       "      <td>...</td>\n",
       "      <td>...</td>\n",
       "      <td>...</td>\n",
       "      <td>...</td>\n",
       "    </tr>\n",
       "    <tr>\n",
       "      <th>1911</th>\n",
       "      <td>WorldNetDaily</td>\n",
       "      <td>https://www.wnd.com/2019/04/doj-sued-for-detai...</td>\n",
       "      <td>30.50</td>\n",
       "      <td>21.25</td>\n",
       "    </tr>\n",
       "    <tr>\n",
       "      <th>1912</th>\n",
       "      <td>WorldNetDaily</td>\n",
       "      <td>https://www.wnd.com/2019/04/fox-news-stars-pul...</td>\n",
       "      <td>29.75</td>\n",
       "      <td>12.00</td>\n",
       "    </tr>\n",
       "    <tr>\n",
       "      <th>1913</th>\n",
       "      <td>WorldNetDaily</td>\n",
       "      <td>https://www.wnd.com/2019/04/12-french-churches...</td>\n",
       "      <td>19.75</td>\n",
       "      <td>19.75</td>\n",
       "    </tr>\n",
       "    <tr>\n",
       "      <th>1914</th>\n",
       "      <td>WorldNetDaily</td>\n",
       "      <td>https://www.wnd.com/2019/04/schiff-launches-ne...</td>\n",
       "      <td>26.00</td>\n",
       "      <td>23.25</td>\n",
       "    </tr>\n",
       "    <tr>\n",
       "      <th>1915</th>\n",
       "      <td>WorldNetDaily</td>\n",
       "      <td>https://www.wnd.com/2019/03/use-wrong-pronoun-...</td>\n",
       "      <td>15.72</td>\n",
       "      <td>25.61</td>\n",
       "    </tr>\n",
       "  </tbody>\n",
       "</table>\n",
       "<p>1916 rows × 4 columns</p>\n",
       "</div>"
      ],
      "text/plain": [
       "             Source                                                Url   Bias  \\\n",
       "0               ABC  https://abcnews.go.com/Politics/us-disrupted-a...  -5.33   \n",
       "1               ABC  https://abcnews.go.com/Politics/appeals-court-...   0.67   \n",
       "2               ABC  https://abcnews.go.com/Politics/electoral-coll... -10.00   \n",
       "3               ABC  https://abcnews.go.com/Politics/facebook-agree...  -2.33   \n",
       "4               ABC  https://abcnews.go.com/Politics/donald-trump-t...  -4.33   \n",
       "...             ...                                                ...    ...   \n",
       "1911  WorldNetDaily  https://www.wnd.com/2019/04/doj-sued-for-detai...  30.50   \n",
       "1912  WorldNetDaily  https://www.wnd.com/2019/04/fox-news-stars-pul...  29.75   \n",
       "1913  WorldNetDaily  https://www.wnd.com/2019/04/12-french-churches...  19.75   \n",
       "1914  WorldNetDaily  https://www.wnd.com/2019/04/schiff-launches-ne...  26.00   \n",
       "1915  WorldNetDaily  https://www.wnd.com/2019/03/use-wrong-pronoun-...  15.72   \n",
       "\n",
       "      Quality  \n",
       "0       52.33  \n",
       "1       51.67  \n",
       "2       32.00  \n",
       "3       52.33  \n",
       "4       52.67  \n",
       "...       ...  \n",
       "1911    21.25  \n",
       "1912    12.00  \n",
       "1913    19.75  \n",
       "1914    23.25  \n",
       "1915    25.61  \n",
       "\n",
       "[1916 rows x 4 columns]"
      ]
     },
     "execution_count": 3,
     "metadata": {},
     "output_type": "execute_result"
    }
   ],
   "source": [
    "df = pd.read_csv(\"../data/raw/mbc_article_level.csv\")\n",
    "df"
   ]
  },
  {
   "cell_type": "code",
   "execution_count": 5,
   "metadata": {},
   "outputs": [],
   "source": [
    "from newspaper import Article"
   ]
  },
  {
   "cell_type": "code",
   "execution_count": 7,
   "metadata": {},
   "outputs": [
    {
     "data": {
      "text/plain": [
       "'https://abcnews.go.com/Politics/us-disrupted-alleged-russian-trolls-internet-access-midterms/story?id=61333049'"
      ]
     },
     "execution_count": 7,
     "metadata": {},
     "output_type": "execute_result"
    }
   ],
   "source": [
    "df.iloc[0,1]"
   ]
  },
  {
   "cell_type": "code",
   "execution_count": 9,
   "metadata": {},
   "outputs": [],
   "source": [
    "a = Article(df.iloc[0,1])\n",
    "a.download()"
   ]
  },
  {
   "cell_type": "code",
   "execution_count": 11,
   "metadata": {},
   "outputs": [],
   "source": [
    "a.parse()"
   ]
  },
  {
   "cell_type": "code",
   "execution_count": 12,
   "metadata": {},
   "outputs": [
    {
     "data": {
      "text/plain": [
       "\"US disrupted alleged Russian trolls' internet access during midterms: Report Cyber Command chief had signaled more aggressive moves outside U.S. borders.\\n\\nU.S. cyber operators disrupted internet access for purported Russian trolls on the day of the 2018 midterm elections in a bid to hamper their propaganda operations, according to a report by The Washington Post.\\n\\nThe operation by U.S. Cyber Command reportedly targeted the St. Petersburg-based Internet Research Agency (IRA), which U.S. officials and prosecutors from Robert Mueller’s special counsel team allege operated an expansive influence operation designed in part to undermine American democracy by sowing discord online ahead of the 2016 presidential election and 2018 midterm elections.\\n\\n“They basically took the IRA offline,” an individual familiar with the operation told the Post. “They shut ‘em down.”\\n\\nThe head of U.S. Cyber Command and the National Security Agency (NSA), Gen. Paul Nakasone, previously indicated his cyber warriors would be more aggressive in countering America’s adversaries across borders in cyberspace. Ahead of the midterms, the U.S. set up the “Russia Small Group,” a joint Cyber Command-NSA task force, specifically to “assist in the securing of the 2018 midterm elections,” he said.\\n\\n“Acting includes defending forward,” he said in an interview with the military journal Joint Force Quarterly (JFQ). “How do we warn, how do we influence our adversaries, how do we position ourselves in case we have to achieve outcomes in the future? Acting is the concept of operating outside our borders, being outside our networks, to ensure that we understand what our adversaries are doing.”\\n\\nThe New York Times previously reported that Cyber Command officials had taken to warning individual alleged Russian operatives suspected of spreading disinformation online that they should not mess with the midterms.\\n\\nThe building known to house the Internet Research Agency in St.Petersburg, Russia, Oct. 20, 2018. Dmitri Lovetsky/AP\\n\\nRepresentatives for the NSA and Cyber Command did not immediately return ABC News’ requests for comment.\\n\\nIt remains to be seen what kind of impact the reported internet disruption may have had, according to experts.\\n\\nBret Schafer, a social media analyst at the Alliance for Securing Democracy, told ABC News that his organization didn’t notice a dramatic drop off of online propaganda on the day of the midterms, but he noted that his organization wasn’t focused solely on purported IRA accounts. He also pointed out that by then social media giants Twitter and Facebook already had taken down hundreds of accounts suspected to be linked to the IRA and other nefarious actors.\\n\\nAfter conducting a review of foreign interference attempts during the midterms, the U.S. intelligence community released a report concluding that while there was no evidence that votes or vote tallies were altered, online influence operations emanating from Russia and other nations persisted similar to the weeks leading up to voting.\\n\\nJake Williams, a former Defense Department cyber operations official, told ABC News, “I don’t doubt they caused disruptions, I’m only dubious about how much... [But] it’s important to remember that this is a disruption operation, so any level of disruption is considered a success. It’s not necessary to take the target completely offline to be ‘successful.’”\\n\\nWilliams said that a potential problem with such operations is that American cyber operators can likely only use whatever secret tactics they used once.\\n\\n“Unlike a missile that you test and say ‘if you oppose us, you’ve got one of these coming,’ cyber weapons are easy to defend against once you know what’s happening,” he said.\\n\\nIn his interview with JFQ, Nakasone suggested that U.S. Cyber Command was no longer interested in holding its cyber tools in reserve.\\n\\n“Unlike the nuclear realm, where our strategic advantage or power comes from possessing a capability or weapons system, in cyberspace it’s the use of cyber capabilities that is strategically consequential,” he said. “The threat of using something in cyberspace is not as powerful as actually using it because that’s what our adversaries are doing to us.”\""
      ]
     },
     "execution_count": 12,
     "metadata": {},
     "output_type": "execute_result"
    }
   ],
   "source": [
    "a.text"
   ]
  }
 ],
 "metadata": {
  "kernelspec": {
   "display_name": "Python 3",
   "language": "python",
   "name": "python3"
  },
  "language_info": {
   "codemirror_mode": {
    "name": "ipython",
    "version": 3
   },
   "file_extension": ".py",
   "mimetype": "text/x-python",
   "name": "python",
   "nbconvert_exporter": "python",
   "pygments_lexer": "ipython3",
   "version": "3.8.1"
  }
 },
 "nbformat": 4,
 "nbformat_minor": 4
}
