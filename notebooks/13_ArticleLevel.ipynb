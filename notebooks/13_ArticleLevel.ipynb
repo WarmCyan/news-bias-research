{
 "cells": [
  {
   "cell_type": "code",
   "execution_count": 1,
   "metadata": {},
   "outputs": [],
   "source": [
    "import pandas as pd\n",
    "import time\n",
    "\n",
    "from tqdm import tqdm"
   ]
  },
  {
   "cell_type": "code",
   "execution_count": 2,
   "metadata": {},
   "outputs": [
    {
     "data": {
      "text/html": [
       "<div>\n",
       "<style scoped>\n",
       "    .dataframe tbody tr th:only-of-type {\n",
       "        vertical-align: middle;\n",
       "    }\n",
       "\n",
       "    .dataframe tbody tr th {\n",
       "        vertical-align: top;\n",
       "    }\n",
       "\n",
       "    .dataframe thead th {\n",
       "        text-align: right;\n",
       "    }\n",
       "</style>\n",
       "<table border=\"1\" class=\"dataframe\">\n",
       "  <thead>\n",
       "    <tr style=\"text-align: right;\">\n",
       "      <th></th>\n",
       "      <th>Source</th>\n",
       "      <th>Url</th>\n",
       "      <th>Bias</th>\n",
       "      <th>Quality</th>\n",
       "    </tr>\n",
       "  </thead>\n",
       "  <tbody>\n",
       "    <tr>\n",
       "      <th>0</th>\n",
       "      <td>ABC</td>\n",
       "      <td>https://abcnews.go.com/Politics/us-disrupted-a...</td>\n",
       "      <td>-5.33</td>\n",
       "      <td>52.33</td>\n",
       "    </tr>\n",
       "    <tr>\n",
       "      <th>1</th>\n",
       "      <td>ABC</td>\n",
       "      <td>https://abcnews.go.com/Politics/appeals-court-...</td>\n",
       "      <td>0.67</td>\n",
       "      <td>51.67</td>\n",
       "    </tr>\n",
       "    <tr>\n",
       "      <th>2</th>\n",
       "      <td>ABC</td>\n",
       "      <td>https://abcnews.go.com/Politics/electoral-coll...</td>\n",
       "      <td>-10.00</td>\n",
       "      <td>32.00</td>\n",
       "    </tr>\n",
       "    <tr>\n",
       "      <th>3</th>\n",
       "      <td>ABC</td>\n",
       "      <td>https://abcnews.go.com/Politics/facebook-agree...</td>\n",
       "      <td>-2.33</td>\n",
       "      <td>52.33</td>\n",
       "    </tr>\n",
       "    <tr>\n",
       "      <th>4</th>\n",
       "      <td>ABC</td>\n",
       "      <td>https://abcnews.go.com/Politics/donald-trump-t...</td>\n",
       "      <td>-4.33</td>\n",
       "      <td>52.67</td>\n",
       "    </tr>\n",
       "    <tr>\n",
       "      <th>...</th>\n",
       "      <td>...</td>\n",
       "      <td>...</td>\n",
       "      <td>...</td>\n",
       "      <td>...</td>\n",
       "    </tr>\n",
       "    <tr>\n",
       "      <th>1911</th>\n",
       "      <td>WorldNetDaily</td>\n",
       "      <td>https://www.wnd.com/2019/04/doj-sued-for-detai...</td>\n",
       "      <td>30.50</td>\n",
       "      <td>21.25</td>\n",
       "    </tr>\n",
       "    <tr>\n",
       "      <th>1912</th>\n",
       "      <td>WorldNetDaily</td>\n",
       "      <td>https://www.wnd.com/2019/04/fox-news-stars-pul...</td>\n",
       "      <td>29.75</td>\n",
       "      <td>12.00</td>\n",
       "    </tr>\n",
       "    <tr>\n",
       "      <th>1913</th>\n",
       "      <td>WorldNetDaily</td>\n",
       "      <td>https://www.wnd.com/2019/04/12-french-churches...</td>\n",
       "      <td>19.75</td>\n",
       "      <td>19.75</td>\n",
       "    </tr>\n",
       "    <tr>\n",
       "      <th>1914</th>\n",
       "      <td>WorldNetDaily</td>\n",
       "      <td>https://www.wnd.com/2019/04/schiff-launches-ne...</td>\n",
       "      <td>26.00</td>\n",
       "      <td>23.25</td>\n",
       "    </tr>\n",
       "    <tr>\n",
       "      <th>1915</th>\n",
       "      <td>WorldNetDaily</td>\n",
       "      <td>https://www.wnd.com/2019/03/use-wrong-pronoun-...</td>\n",
       "      <td>15.72</td>\n",
       "      <td>25.61</td>\n",
       "    </tr>\n",
       "  </tbody>\n",
       "</table>\n",
       "<p>1916 rows × 4 columns</p>\n",
       "</div>"
      ],
      "text/plain": [
       "             Source                                                Url   Bias  \\\n",
       "0               ABC  https://abcnews.go.com/Politics/us-disrupted-a...  -5.33   \n",
       "1               ABC  https://abcnews.go.com/Politics/appeals-court-...   0.67   \n",
       "2               ABC  https://abcnews.go.com/Politics/electoral-coll... -10.00   \n",
       "3               ABC  https://abcnews.go.com/Politics/facebook-agree...  -2.33   \n",
       "4               ABC  https://abcnews.go.com/Politics/donald-trump-t...  -4.33   \n",
       "...             ...                                                ...    ...   \n",
       "1911  WorldNetDaily  https://www.wnd.com/2019/04/doj-sued-for-detai...  30.50   \n",
       "1912  WorldNetDaily  https://www.wnd.com/2019/04/fox-news-stars-pul...  29.75   \n",
       "1913  WorldNetDaily  https://www.wnd.com/2019/04/12-french-churches...  19.75   \n",
       "1914  WorldNetDaily  https://www.wnd.com/2019/04/schiff-launches-ne...  26.00   \n",
       "1915  WorldNetDaily  https://www.wnd.com/2019/03/use-wrong-pronoun-...  15.72   \n",
       "\n",
       "      Quality  \n",
       "0       52.33  \n",
       "1       51.67  \n",
       "2       32.00  \n",
       "3       52.33  \n",
       "4       52.67  \n",
       "...       ...  \n",
       "1911    21.25  \n",
       "1912    12.00  \n",
       "1913    19.75  \n",
       "1914    23.25  \n",
       "1915    25.61  \n",
       "\n",
       "[1916 rows x 4 columns]"
      ]
     },
     "execution_count": 2,
     "metadata": {},
     "output_type": "execute_result"
    }
   ],
   "source": [
    "df = pd.read_csv(\"../data/raw/mbc_article_level.csv\")\n",
    "df"
   ]
  },
  {
   "cell_type": "code",
   "execution_count": 3,
   "metadata": {},
   "outputs": [],
   "source": [
    "from newspaper import Article"
   ]
  },
  {
   "cell_type": "code",
   "execution_count": 4,
   "metadata": {},
   "outputs": [
    {
     "data": {
      "text/plain": [
       "'https://abcnews.go.com/Politics/us-disrupted-alleged-russian-trolls-internet-access-midterms/story?id=61333049'"
      ]
     },
     "execution_count": 4,
     "metadata": {},
     "output_type": "execute_result"
    }
   ],
   "source": [
    "df.iloc[0,1]"
   ]
  },
  {
   "cell_type": "code",
   "execution_count": 9,
   "metadata": {},
   "outputs": [],
   "source": [
    "a = Article(df.iloc[0,1])\n",
    "a.download()"
   ]
  },
  {
   "cell_type": "code",
   "execution_count": 11,
   "metadata": {},
   "outputs": [],
   "source": [
    "a.parse()"
   ]
  },
  {
   "cell_type": "code",
   "execution_count": 12,
   "metadata": {},
   "outputs": [
    {
     "data": {
      "text/plain": [
       "\"US disrupted alleged Russian trolls' internet access during midterms: Report Cyber Command chief had signaled more aggressive moves outside U.S. borders.\\n\\nU.S. cyber operators disrupted internet access for purported Russian trolls on the day of the 2018 midterm elections in a bid to hamper their propaganda operations, according to a report by The Washington Post.\\n\\nThe operation by U.S. Cyber Command reportedly targeted the St. Petersburg-based Internet Research Agency (IRA), which U.S. officials and prosecutors from Robert Mueller’s special counsel team allege operated an expansive influence operation designed in part to undermine American democracy by sowing discord online ahead of the 2016 presidential election and 2018 midterm elections.\\n\\n“They basically took the IRA offline,” an individual familiar with the operation told the Post. “They shut ‘em down.”\\n\\nThe head of U.S. Cyber Command and the National Security Agency (NSA), Gen. Paul Nakasone, previously indicated his cyber warriors would be more aggressive in countering America’s adversaries across borders in cyberspace. Ahead of the midterms, the U.S. set up the “Russia Small Group,” a joint Cyber Command-NSA task force, specifically to “assist in the securing of the 2018 midterm elections,” he said.\\n\\n“Acting includes defending forward,” he said in an interview with the military journal Joint Force Quarterly (JFQ). “How do we warn, how do we influence our adversaries, how do we position ourselves in case we have to achieve outcomes in the future? Acting is the concept of operating outside our borders, being outside our networks, to ensure that we understand what our adversaries are doing.”\\n\\nThe New York Times previously reported that Cyber Command officials had taken to warning individual alleged Russian operatives suspected of spreading disinformation online that they should not mess with the midterms.\\n\\nThe building known to house the Internet Research Agency in St.Petersburg, Russia, Oct. 20, 2018. Dmitri Lovetsky/AP\\n\\nRepresentatives for the NSA and Cyber Command did not immediately return ABC News’ requests for comment.\\n\\nIt remains to be seen what kind of impact the reported internet disruption may have had, according to experts.\\n\\nBret Schafer, a social media analyst at the Alliance for Securing Democracy, told ABC News that his organization didn’t notice a dramatic drop off of online propaganda on the day of the midterms, but he noted that his organization wasn’t focused solely on purported IRA accounts. He also pointed out that by then social media giants Twitter and Facebook already had taken down hundreds of accounts suspected to be linked to the IRA and other nefarious actors.\\n\\nAfter conducting a review of foreign interference attempts during the midterms, the U.S. intelligence community released a report concluding that while there was no evidence that votes or vote tallies were altered, online influence operations emanating from Russia and other nations persisted similar to the weeks leading up to voting.\\n\\nJake Williams, a former Defense Department cyber operations official, told ABC News, “I don’t doubt they caused disruptions, I’m only dubious about how much... [But] it’s important to remember that this is a disruption operation, so any level of disruption is considered a success. It’s not necessary to take the target completely offline to be ‘successful.’”\\n\\nWilliams said that a potential problem with such operations is that American cyber operators can likely only use whatever secret tactics they used once.\\n\\n“Unlike a missile that you test and say ‘if you oppose us, you’ve got one of these coming,’ cyber weapons are easy to defend against once you know what’s happening,” he said.\\n\\nIn his interview with JFQ, Nakasone suggested that U.S. Cyber Command was no longer interested in holding its cyber tools in reserve.\\n\\n“Unlike the nuclear realm, where our strategic advantage or power comes from possessing a capability or weapons system, in cyberspace it’s the use of cyber capabilities that is strategically consequential,” he said. “The threat of using something in cyberspace is not as powerful as actually using it because that’s what our adversaries are doing to us.”\""
      ]
     },
     "execution_count": 12,
     "metadata": {},
     "output_type": "execute_result"
    }
   ],
   "source": [
    "a.text"
   ]
  },
  {
   "cell_type": "code",
   "execution_count": 5,
   "metadata": {
    "collapsed": true,
    "jupyter": {
     "outputs_hidden": true
    }
   },
   "outputs": [
    {
     "name": "stderr",
     "output_type": "stream",
     "text": [
      " 12%|█▏        | 226/1916 [05:34<35:21,  1.26s/it]  "
     ]
    },
    {
     "name": "stdout",
     "output_type": "stream",
     "text": [
      "https://www.cbsnews.com/video/nba-coach-luke-walton-sued-for-alleged-sexual-assault/ not found\n"
     ]
    },
    {
     "name": "stderr",
     "output_type": "stream",
     "text": [
      " 14%|█▎        | 261/1916 [06:54<56:19,  2.04s/it]  "
     ]
    },
    {
     "name": "stdout",
     "output_type": "stream",
     "text": [
      "Cuomo Prime Time not found\n"
     ]
    },
    {
     "name": "stderr",
     "output_type": "stream",
     "text": [
      " 14%|█▎        | 262/1916 [06:55<47:45,  1.73s/it]"
     ]
    },
    {
     "name": "stdout",
     "output_type": "stream",
     "text": [
      "CNN NewsRoom with Poppy Harlow not found\n"
     ]
    },
    {
     "name": "stderr",
     "output_type": "stream",
     "text": [
      " 14%|█▎        | 263/1916 [06:56<41:42,  1.51s/it]"
     ]
    },
    {
     "name": "stdout",
     "output_type": "stream",
     "text": [
      "CNN Newsroom with Brooke Baldwin not found\n"
     ]
    },
    {
     "name": "stderr",
     "output_type": "stream",
     "text": [
      " 14%|█▍        | 264/1916 [06:57<37:29,  1.36s/it]"
     ]
    },
    {
     "name": "stdout",
     "output_type": "stream",
     "text": [
      "Early Start not found\n"
     ]
    },
    {
     "name": "stderr",
     "output_type": "stream",
     "text": [
      " 14%|█▍        | 265/1916 [06:58<34:32,  1.26s/it]"
     ]
    },
    {
     "name": "stdout",
     "output_type": "stream",
     "text": [
      "CNN NewsRoom with Poppy Harlow not found\n"
     ]
    },
    {
     "name": "stderr",
     "output_type": "stream",
     "text": [
      " 14%|█▍        | 266/1916 [06:59<32:28,  1.18s/it]"
     ]
    },
    {
     "name": "stdout",
     "output_type": "stream",
     "text": [
      "At this Hour with Kate Bolduan not found\n"
     ]
    },
    {
     "name": "stderr",
     "output_type": "stream",
     "text": [
      " 14%|█▍        | 267/1916 [07:00<30:58,  1.13s/it]"
     ]
    },
    {
     "name": "stdout",
     "output_type": "stream",
     "text": [
      "CNN Newsroom with Brooke Baldwin not found\n"
     ]
    },
    {
     "name": "stderr",
     "output_type": "stream",
     "text": [
      " 14%|█▍        | 268/1916 [07:01<29:57,  1.09s/it]"
     ]
    },
    {
     "name": "stdout",
     "output_type": "stream",
     "text": [
      "The Lead with Jake Tapper not found\n"
     ]
    },
    {
     "name": "stderr",
     "output_type": "stream",
     "text": [
      " 14%|█▍        | 269/1916 [07:02<29:14,  1.07s/it]"
     ]
    },
    {
     "name": "stdout",
     "output_type": "stream",
     "text": [
      "The Situation Room not found\n"
     ]
    },
    {
     "name": "stderr",
     "output_type": "stream",
     "text": [
      " 14%|█▍        | 270/1916 [07:03<28:42,  1.05s/it]"
     ]
    },
    {
     "name": "stdout",
     "output_type": "stream",
     "text": [
      "Cuomo Prime Time not found\n"
     ]
    },
    {
     "name": "stderr",
     "output_type": "stream",
     "text": [
      " 14%|█▍        | 271/1916 [07:04<28:20,  1.03s/it]"
     ]
    },
    {
     "name": "stdout",
     "output_type": "stream",
     "text": [
      "CNN Tonight with Don Lemon not found\n"
     ]
    },
    {
     "name": "stderr",
     "output_type": "stream",
     "text": [
      " 15%|█▌        | 293/1916 [07:49<52:10,  1.93s/it]  "
     ]
    },
    {
     "name": "stdout",
     "output_type": "stream",
     "text": [
      "Early Start not found\n"
     ]
    },
    {
     "name": "stderr",
     "output_type": "stream",
     "text": [
      " 15%|█▌        | 294/1916 [07:50<44:40,  1.65s/it]"
     ]
    },
    {
     "name": "stdout",
     "output_type": "stream",
     "text": [
      "Inside Politics not found\n"
     ]
    },
    {
     "name": "stderr",
     "output_type": "stream",
     "text": [
      " 15%|█▌        | 295/1916 [07:51<39:24,  1.46s/it]"
     ]
    },
    {
     "name": "stdout",
     "output_type": "stream",
     "text": [
      "The Situation Room not found\n"
     ]
    },
    {
     "name": "stderr",
     "output_type": "stream",
     "text": [
      " 15%|█▌        | 296/1916 [07:52<35:43,  1.32s/it]"
     ]
    },
    {
     "name": "stdout",
     "output_type": "stream",
     "text": [
      "Erin Burnett OutFront not found\n"
     ]
    },
    {
     "name": "stderr",
     "output_type": "stream",
     "text": [
      " 16%|█▌        | 297/1916 [07:53<33:07,  1.23s/it]"
     ]
    },
    {
     "name": "stdout",
     "output_type": "stream",
     "text": [
      "Anderson Cooper 360 not found\n"
     ]
    },
    {
     "name": "stderr",
     "output_type": "stream",
     "text": [
      " 16%|█▌        | 298/1916 [07:54<31:18,  1.16s/it]"
     ]
    },
    {
     "name": "stdout",
     "output_type": "stream",
     "text": [
      "CNN Tonight with Don Lemon not found\n"
     ]
    },
    {
     "name": "stderr",
     "output_type": "stream",
     "text": [
      " 16%|█▌        | 299/1916 [07:56<30:01,  1.11s/it]"
     ]
    },
    {
     "name": "stdout",
     "output_type": "stream",
     "text": [
      "Fareed Zakaria not found\n"
     ]
    },
    {
     "name": "stderr",
     "output_type": "stream",
     "text": [
      " 16%|█▌        | 300/1916 [07:57<29:08,  1.08s/it]"
     ]
    },
    {
     "name": "stdout",
     "output_type": "stream",
     "text": [
      "The Lead with Jake Tapper not found\n"
     ]
    },
    {
     "name": "stderr",
     "output_type": "stream",
     "text": [
      " 16%|█▌        | 301/1916 [07:58<28:30,  1.06s/it]"
     ]
    },
    {
     "name": "stdout",
     "output_type": "stream",
     "text": [
      "Smerconish not found\n"
     ]
    },
    {
     "name": "stderr",
     "output_type": "stream",
     "text": [
      " 16%|█▌        | 302/1916 [07:59<28:03,  1.04s/it]"
     ]
    },
    {
     "name": "stdout",
     "output_type": "stream",
     "text": [
      "Early Start not found\n"
     ]
    },
    {
     "name": "stderr",
     "output_type": "stream",
     "text": [
      " 16%|█▌        | 303/1916 [08:00<27:45,  1.03s/it]"
     ]
    },
    {
     "name": "stdout",
     "output_type": "stream",
     "text": [
      "Anderson Cooper 360 not found\n"
     ]
    },
    {
     "name": "stderr",
     "output_type": "stream",
     "text": [
      " 16%|█▌        | 304/1916 [08:01<27:31,  1.02s/it]"
     ]
    },
    {
     "name": "stdout",
     "output_type": "stream",
     "text": [
      "Erin Burnett OutFront not found\n"
     ]
    },
    {
     "name": "stderr",
     "output_type": "stream",
     "text": [
      " 16%|█▌        | 305/1916 [08:02<27:21,  1.02s/it]"
     ]
    },
    {
     "name": "stdout",
     "output_type": "stream",
     "text": [
      "Smerconish not found\n"
     ]
    },
    {
     "name": "stderr",
     "output_type": "stream",
     "text": [
      " 16%|█▌        | 306/1916 [08:03<27:14,  1.02s/it]"
     ]
    },
    {
     "name": "stdout",
     "output_type": "stream",
     "text": [
      "Reliable Sources not found\n"
     ]
    },
    {
     "name": "stderr",
     "output_type": "stream",
     "text": [
      " 25%|██▍       | 478/1916 [13:15<44:30,  1.86s/it]  "
     ]
    },
    {
     "name": "stdout",
     "output_type": "stream",
     "text": [
      "https://www.forbes.com/sites/sarahkim/2019/02/25/carrie-ann-lucas-dies/#3bb65a4f119e not found\n"
     ]
    },
    {
     "name": "stderr",
     "output_type": "stream",
     "text": [
      " 25%|██▌       | 479/1916 [13:17<39:16,  1.64s/it]"
     ]
    },
    {
     "name": "stdout",
     "output_type": "stream",
     "text": [
      "https://www.forbes.com/sites/amyfeldman/2019/02/26/from-shampoo-to-breast-implants-to-airplanes-this-startups-lab-grown-spider-silk-could-go-a-long-way/#4508e701211b not found\n"
     ]
    },
    {
     "name": "stderr",
     "output_type": "stream",
     "text": [
      " 25%|██▌       | 480/1916 [13:18<35:12,  1.47s/it]"
     ]
    },
    {
     "name": "stdout",
     "output_type": "stream",
     "text": [
      "https://www.forbes.com/sites/jeremybogaisky/2019/03/15/should-boeing-have-replaced-the-737-instead-of-re-engining-it/ not found\n"
     ]
    },
    {
     "name": "stderr",
     "output_type": "stream",
     "text": [
      " 25%|██▌       | 481/1916 [13:19<32:36,  1.36s/it]"
     ]
    },
    {
     "name": "stdout",
     "output_type": "stream",
     "text": [
      "https://www.forbes.com/sites/warrenshoulberg/2019/03/19/what-shopko-folding-up-shop-really-means-for-american-retailing/ not found\n"
     ]
    },
    {
     "name": "stderr",
     "output_type": "stream",
     "text": [
      " 25%|██▌       | 482/1916 [13:20<31:30,  1.32s/it]"
     ]
    },
    {
     "name": "stdout",
     "output_type": "stream",
     "text": [
      "https://www.forbes.com/sites/imanibarbarin/2019/04/11/how-a-trump-proposal-could-reduce-happy-disabled-people/#5ce34e27636c not found\n"
     ]
    },
    {
     "name": "stderr",
     "output_type": "stream",
     "text": [
      " 25%|██▌       | 483/1916 [13:21<29:46,  1.25s/it]"
     ]
    },
    {
     "name": "stdout",
     "output_type": "stream",
     "text": [
      "https://www.forbes.com/sites/jrose/2019/02/26/expect-tax-return-refund/#1be4aa4525f3 not found\n"
     ]
    },
    {
     "name": "stderr",
     "output_type": "stream",
     "text": [
      " 25%|██▌       | 484/1916 [13:22<28:31,  1.20s/it]"
     ]
    },
    {
     "name": "stdout",
     "output_type": "stream",
     "text": [
      "https://www.forbes.com/sites/lorenthompson/2019/02/26/why-president-trump-will-likely-be-reelected-and-what-it-means-for-global-security/#f6595bd41cbd not found\n"
     ]
    },
    {
     "name": "stderr",
     "output_type": "stream",
     "text": [
      " 25%|██▌       | 485/1916 [13:23<27:39,  1.16s/it]"
     ]
    },
    {
     "name": "stdout",
     "output_type": "stream",
     "text": [
      "https://www.forbes.com/sites/stephaniesarkis/2019/02/26/gender-bias-impacts-communication-and-leadership/#43278f3877ef not found\n"
     ]
    },
    {
     "name": "stderr",
     "output_type": "stream",
     "text": [
      " 25%|██▌       | 486/1916 [13:24<27:16,  1.14s/it]"
     ]
    },
    {
     "name": "stdout",
     "output_type": "stream",
     "text": [
      "https://www.forbes.com/sites/bowmanmarsico/2019/02/13/taxing-the-rich-what-the-polls-tell-us/#767ae54724d1 not found\n"
     ]
    },
    {
     "name": "stderr",
     "output_type": "stream",
     "text": [
      " 25%|██▌       | 487/1916 [13:25<26:46,  1.12s/it]"
     ]
    },
    {
     "name": "stdout",
     "output_type": "stream",
     "text": [
      "https://www.forbes.com/sites/danielfisher/2016/10/14/connecticut-judge-dismisses-sandy-hook-massacre-lawsuit-against-remington/ not found\n"
     ]
    },
    {
     "name": "stderr",
     "output_type": "stream",
     "text": [
      " 25%|██▌       | 488/1916 [13:26<26:28,  1.11s/it]"
     ]
    },
    {
     "name": "stdout",
     "output_type": "stream",
     "text": [
      "https://www.forbes.com/sites/camilomaldonado/2019/03/19/recession-coming-fix-your-finances/ not found\n"
     ]
    },
    {
     "name": "stderr",
     "output_type": "stream",
     "text": [
      " 26%|██▌       | 489/1916 [13:28<26:14,  1.10s/it]"
     ]
    },
    {
     "name": "stdout",
     "output_type": "stream",
     "text": [
      "https://www.forbes.com/sites/warrenshoulberg/2019/03/19/why-kohls-recent-success-has-more-to-do-with-it-and-penney-than-with-amazon/ not found\n"
     ]
    },
    {
     "name": "stderr",
     "output_type": "stream",
     "text": [
      " 26%|██▌       | 490/1916 [13:29<26:11,  1.10s/it]"
     ]
    },
    {
     "name": "stdout",
     "output_type": "stream",
     "text": [
      "https://www.forbes.com/sites/thomasbrewster/2019/04/16/unpacking-the-alleged-assange-manning-password-hacking-conspiracy/#4b1228876ee8 not found\n"
     ]
    },
    {
     "name": "stderr",
     "output_type": "stream",
     "text": [
      " 26%|██▌       | 491/1916 [13:30<26:07,  1.10s/it]"
     ]
    },
    {
     "name": "stdout",
     "output_type": "stream",
     "text": [
      "https://www.forbes.com/sites/jasonevangelho/2019/04/15/warning-internet-explorer-just-became-a-silent-but-serious-threat-to-every-windows-user/#5d22ddc686d8 not found\n"
     ]
    },
    {
     "name": "stderr",
     "output_type": "stream",
     "text": [
      " 28%|██▊       | 534/1916 [14:49<44:52,  1.95s/it]"
     ]
    },
    {
     "name": "stdout",
     "output_type": "stream",
     "text": [
      "Fox & Friends not found\n"
     ]
    },
    {
     "name": "stderr",
     "output_type": "stream",
     "text": [
      " 28%|██▊       | 535/1916 [14:50<38:19,  1.67s/it]"
     ]
    },
    {
     "name": "stdout",
     "output_type": "stream",
     "text": [
      "Outnumbered Overtime not found\n"
     ]
    },
    {
     "name": "stderr",
     "output_type": "stream",
     "text": [
      " 28%|██▊       | 536/1916 [14:51<33:44,  1.47s/it]"
     ]
    },
    {
     "name": "stdout",
     "output_type": "stream",
     "text": [
      "The Daily Briefing not found\n"
     ]
    },
    {
     "name": "stderr",
     "output_type": "stream",
     "text": [
      " 28%|██▊       | 537/1916 [14:52<30:32,  1.33s/it]"
     ]
    },
    {
     "name": "stdout",
     "output_type": "stream",
     "text": [
      "Fox & Friends First not found\n"
     ]
    },
    {
     "name": "stderr",
     "output_type": "stream",
     "text": [
      " 28%|██▊       | 538/1916 [14:53<28:16,  1.23s/it]"
     ]
    },
    {
     "name": "stdout",
     "output_type": "stream",
     "text": [
      "Your World with Neil Cavuto not found\n"
     ]
    },
    {
     "name": "stderr",
     "output_type": "stream",
     "text": [
      " 28%|██▊       | 539/1916 [14:55<26:42,  1.16s/it]"
     ]
    },
    {
     "name": "stdout",
     "output_type": "stream",
     "text": [
      "The Five not found\n"
     ]
    },
    {
     "name": "stderr",
     "output_type": "stream",
     "text": [
      " 28%|██▊       | 540/1916 [14:56<25:35,  1.12s/it]"
     ]
    },
    {
     "name": "stdout",
     "output_type": "stream",
     "text": [
      "Life, Liberty, and Levin not found\n"
     ]
    },
    {
     "name": "stderr",
     "output_type": "stream",
     "text": [
      " 28%|██▊       | 541/1916 [14:57<24:48,  1.08s/it]"
     ]
    },
    {
     "name": "stdout",
     "output_type": "stream",
     "text": [
      "Sunday Morning Futures with Maria Bartiromo not found\n"
     ]
    },
    {
     "name": "stderr",
     "output_type": "stream",
     "text": [
      " 28%|██▊       | 542/1916 [14:58<24:16,  1.06s/it]"
     ]
    },
    {
     "name": "stdout",
     "output_type": "stream",
     "text": [
      "Fox News Sunday with Chris Wallace not found\n"
     ]
    },
    {
     "name": "stderr",
     "output_type": "stream",
     "text": [
      " 28%|██▊       | 543/1916 [14:59<23:51,  1.04s/it]"
     ]
    },
    {
     "name": "stdout",
     "output_type": "stream",
     "text": [
      "Fox & Friends not found\n"
     ]
    },
    {
     "name": "stderr",
     "output_type": "stream",
     "text": [
      " 28%|██▊       | 544/1916 [15:00<23:34,  1.03s/it]"
     ]
    },
    {
     "name": "stdout",
     "output_type": "stream",
     "text": [
      "America's Newsroom not found\n"
     ]
    },
    {
     "name": "stderr",
     "output_type": "stream",
     "text": [
      " 28%|██▊       | 545/1916 [15:01<23:22,  1.02s/it]"
     ]
    },
    {
     "name": "stdout",
     "output_type": "stream",
     "text": [
      "The Daily Briefing not found\n"
     ]
    },
    {
     "name": "stderr",
     "output_type": "stream",
     "text": [
      " 28%|██▊       | 546/1916 [15:02<23:14,  1.02s/it]"
     ]
    },
    {
     "name": "stdout",
     "output_type": "stream",
     "text": [
      "Shepard Smith Reporting not found\n"
     ]
    },
    {
     "name": "stderr",
     "output_type": "stream",
     "text": [
      " 29%|██▊       | 547/1916 [15:03<23:08,  1.01s/it]"
     ]
    },
    {
     "name": "stdout",
     "output_type": "stream",
     "text": [
      "Your World with Neil Cavuto not found\n"
     ]
    },
    {
     "name": "stderr",
     "output_type": "stream",
     "text": [
      " 29%|██▊       | 548/1916 [15:04<23:03,  1.01s/it]"
     ]
    },
    {
     "name": "stdout",
     "output_type": "stream",
     "text": [
      "The Story with Martha MacCullum not found\n"
     ]
    },
    {
     "name": "stderr",
     "output_type": "stream",
     "text": [
      " 29%|██▊       | 549/1916 [15:05<23:00,  1.01s/it]"
     ]
    },
    {
     "name": "stdout",
     "output_type": "stream",
     "text": [
      "Tucker Carlson Tonight not found\n"
     ]
    },
    {
     "name": "stderr",
     "output_type": "stream",
     "text": [
      " 29%|██▊       | 550/1916 [15:06<22:57,  1.01s/it]"
     ]
    },
    {
     "name": "stdout",
     "output_type": "stream",
     "text": [
      "Fox and Friends Saturday not found\n"
     ]
    },
    {
     "name": "stderr",
     "output_type": "stream",
     "text": [
      " 29%|██▉       | 551/1916 [15:07<22:55,  1.01s/it]"
     ]
    },
    {
     "name": "stdout",
     "output_type": "stream",
     "text": [
      "Cavuto Live not found\n"
     ]
    },
    {
     "name": "stderr",
     "output_type": "stream",
     "text": [
      " 29%|██▉       | 552/1916 [15:08<22:53,  1.01s/it]"
     ]
    },
    {
     "name": "stdout",
     "output_type": "stream",
     "text": [
      "America's News HQ not found\n"
     ]
    },
    {
     "name": "stderr",
     "output_type": "stream",
     "text": [
      " 29%|██▉       | 553/1916 [15:09<22:51,  1.01s/it]"
     ]
    },
    {
     "name": "stdout",
     "output_type": "stream",
     "text": [
      "Watters' World not found\n"
     ]
    },
    {
     "name": "stderr",
     "output_type": "stream",
     "text": [
      " 29%|██▉       | 554/1916 [15:10<22:50,  1.01s/it]"
     ]
    },
    {
     "name": "stdout",
     "output_type": "stream",
     "text": [
      "Justice with Judge Jeanine not found\n"
     ]
    },
    {
     "name": "stderr",
     "output_type": "stream",
     "text": [
      " 29%|██▉       | 555/1916 [15:11<22:49,  1.01s/it]"
     ]
    },
    {
     "name": "stdout",
     "output_type": "stream",
     "text": [
      "The Next Revolution with Steve Hilton not found\n"
     ]
    },
    {
     "name": "stderr",
     "output_type": "stream",
     "text": [
      " 30%|███       | 577/1916 [15:54<43:25,  1.95s/it]"
     ]
    },
    {
     "name": "stdout",
     "output_type": "stream",
     "text": [
      "Fox & Friends First not found\n"
     ]
    },
    {
     "name": "stderr",
     "output_type": "stream",
     "text": [
      " 30%|███       | 578/1916 [15:55<37:07,  1.66s/it]"
     ]
    },
    {
     "name": "stdout",
     "output_type": "stream",
     "text": [
      "Outnumbered not found\n"
     ]
    },
    {
     "name": "stderr",
     "output_type": "stream",
     "text": [
      " 30%|███       | 579/1916 [15:56<32:41,  1.47s/it]"
     ]
    },
    {
     "name": "stdout",
     "output_type": "stream",
     "text": [
      "The Story with Martha MacCullum not found\n"
     ]
    },
    {
     "name": "stderr",
     "output_type": "stream",
     "text": [
      " 30%|███       | 580/1916 [15:57<29:35,  1.33s/it]"
     ]
    },
    {
     "name": "stdout",
     "output_type": "stream",
     "text": [
      "Tucker Carlson Tonight not found\n"
     ]
    },
    {
     "name": "stderr",
     "output_type": "stream",
     "text": [
      " 30%|███       | 581/1916 [15:58<27:24,  1.23s/it]"
     ]
    },
    {
     "name": "stdout",
     "output_type": "stream",
     "text": [
      "Hannity not found\n"
     ]
    },
    {
     "name": "stderr",
     "output_type": "stream",
     "text": [
      " 30%|███       | 582/1916 [15:59<25:52,  1.16s/it]"
     ]
    },
    {
     "name": "stdout",
     "output_type": "stream",
     "text": [
      "The Ingraham Angle not found\n"
     ]
    },
    {
     "name": "stderr",
     "output_type": "stream",
     "text": [
      " 30%|███       | 583/1916 [16:00<24:48,  1.12s/it]"
     ]
    },
    {
     "name": "stdout",
     "output_type": "stream",
     "text": [
      "Watters' World not found\n"
     ]
    },
    {
     "name": "stderr",
     "output_type": "stream",
     "text": [
      " 30%|███       | 584/1916 [16:01<24:03,  1.08s/it]"
     ]
    },
    {
     "name": "stdout",
     "output_type": "stream",
     "text": [
      "The Greg Gutfeld Show not found\n"
     ]
    },
    {
     "name": "stderr",
     "output_type": "stream",
     "text": [
      " 31%|███       | 585/1916 [16:02<23:31,  1.06s/it]"
     ]
    },
    {
     "name": "stdout",
     "output_type": "stream",
     "text": [
      "Justice with Judge Jeanine not found\n"
     ]
    },
    {
     "name": "stderr",
     "output_type": "stream",
     "text": [
      " 31%|███       | 586/1916 [16:03<23:08,  1.04s/it]"
     ]
    },
    {
     "name": "stdout",
     "output_type": "stream",
     "text": [
      "The Next Revolution with Steve Hilton not found\n"
     ]
    },
    {
     "name": "stderr",
     "output_type": "stream",
     "text": [
      " 31%|███       | 587/1916 [16:04<22:52,  1.03s/it]"
     ]
    },
    {
     "name": "stdout",
     "output_type": "stream",
     "text": [
      "Outnumbered not found\n"
     ]
    },
    {
     "name": "stderr",
     "output_type": "stream",
     "text": [
      " 31%|███       | 588/1916 [16:05<22:40,  1.02s/it]"
     ]
    },
    {
     "name": "stdout",
     "output_type": "stream",
     "text": [
      "Outnumbered Overtime not found\n"
     ]
    },
    {
     "name": "stderr",
     "output_type": "stream",
     "text": [
      " 31%|███       | 589/1916 [16:06<22:32,  1.02s/it]"
     ]
    },
    {
     "name": "stdout",
     "output_type": "stream",
     "text": [
      "Hannity not found\n"
     ]
    },
    {
     "name": "stderr",
     "output_type": "stream",
     "text": [
      " 31%|███       | 590/1916 [16:07<22:26,  1.02s/it]"
     ]
    },
    {
     "name": "stdout",
     "output_type": "stream",
     "text": [
      "The Ingraham Angle not found\n"
     ]
    },
    {
     "name": "stderr",
     "output_type": "stream",
     "text": [
      " 31%|███       | 591/1916 [16:08<22:21,  1.01s/it]"
     ]
    },
    {
     "name": "stdout",
     "output_type": "stream",
     "text": [
      "Fox News@Night with Sharon Bream not found\n"
     ]
    },
    {
     "name": "stderr",
     "output_type": "stream",
     "text": [
      " 31%|███       | 592/1916 [16:09<22:18,  1.01s/it]"
     ]
    },
    {
     "name": "stdout",
     "output_type": "stream",
     "text": [
      "The Greg Gutfeld Show not found\n"
     ]
    },
    {
     "name": "stderr",
     "output_type": "stream",
     "text": [
      " 31%|███       | 593/1916 [16:10<22:15,  1.01s/it]"
     ]
    },
    {
     "name": "stdout",
     "output_type": "stream",
     "text": [
      "Sunday Morning Futures with Maria Bartiromo not found\n"
     ]
    },
    {
     "name": "stderr",
     "output_type": "stream",
     "text": [
      " 31%|███       | 594/1916 [16:11<22:12,  1.01s/it]"
     ]
    },
    {
     "name": "stdout",
     "output_type": "stream",
     "text": [
      "#mediabuzz not found\n"
     ]
    },
    {
     "name": "stderr",
     "output_type": "stream",
     "text": [
      " 31%|███       | 595/1916 [16:12<22:09,  1.01s/it]"
     ]
    },
    {
     "name": "stdout",
     "output_type": "stream",
     "text": [
      "Fox News Sunday with Chris Wallace not found\n"
     ]
    },
    {
     "name": "stderr",
     "output_type": "stream",
     "text": [
      " 32%|███▏      | 606/1916 [16:34<41:42,  1.91s/it]"
     ]
    },
    {
     "name": "stdout",
     "output_type": "stream",
     "text": [
      "https://guacamoley.com/werk/2019/02/27/anderson-coopers-tongue-twister-about-donald-trump-and-michael-cohens-lies-has-our-heads-spinning/ not found\n"
     ]
    },
    {
     "name": "stderr",
     "output_type": "stream",
     "text": [
      " 32%|███▏      | 607/1916 [16:36<38:35,  1.77s/it]"
     ]
    },
    {
     "name": "stdout",
     "output_type": "stream",
     "text": [
      "https://guacamoley.com/same/2019/02/20/the-woman-who-snuck-by-kirsten-gillibrand-at-her-campaign-event-to-get-some-ranch-is-honestly-all-of-us/ not found\n"
     ]
    },
    {
     "name": "stderr",
     "output_type": "stream",
     "text": [
      " 32%|███▏      | 608/1916 [16:37<34:30,  1.58s/it]"
     ]
    },
    {
     "name": "stdout",
     "output_type": "stream",
     "text": [
      "https://guacamoley.com/they-tried-it/2019/03/15/guy-bails-woman-first-date-kid-aita/ not found\n"
     ]
    },
    {
     "name": "stderr",
     "output_type": "stream",
     "text": [
      " 32%|███▏      | 609/1916 [16:38<31:54,  1.46s/it]"
     ]
    },
    {
     "name": "stdout",
     "output_type": "stream",
     "text": [
      "https://guacamoley.com/they-tried-it/2019/04/17/glenn-beck-is-spouting-his-conspiracy-theories-about-the-notre-dame-fire-now-and-people-are-over-his-bs/ not found\n"
     ]
    },
    {
     "name": "stderr",
     "output_type": "stream",
     "text": [
      " 32%|███▏      | 610/1916 [16:39<30:21,  1.40s/it]"
     ]
    },
    {
     "name": "stdout",
     "output_type": "stream",
     "text": [
      "https://guacamoley.com/the-scoop/2019/02/26/photo-of-trump-putting-his-fingers-around-his-eyes-like-tiny-glasses-has-everyone-perplexed-and-concerned/ not found\n"
     ]
    },
    {
     "name": "stderr",
     "output_type": "stream",
     "text": [
      " 32%|███▏      | 611/1916 [16:41<29:00,  1.33s/it]"
     ]
    },
    {
     "name": "stdout",
     "output_type": "stream",
     "text": [
      "https://guacamoley.com/werk/2019/02/24/trump-just-won-two-razzie-awards-for-being-his-most-authentic-and-awful-self/ not found\n"
     ]
    },
    {
     "name": "stderr",
     "output_type": "stream",
     "text": [
      " 32%|███▏      | 612/1916 [16:42<27:57,  1.29s/it]"
     ]
    },
    {
     "name": "stdout",
     "output_type": "stream",
     "text": [
      "https://guacamoley.com/werk/2019/02/21/shirtless-lincoln-statue-los-angeles/ not found\n"
     ]
    },
    {
     "name": "stderr",
     "output_type": "stream",
     "text": [
      " 32%|███▏      | 613/1916 [16:43<27:27,  1.26s/it]"
     ]
    },
    {
     "name": "stdout",
     "output_type": "stream",
     "text": [
      "https://guacamoley.com/celebri-tea/2019/03/15/cardi-bs-explanation-for-her-occasionally-off-putting-behavior-with-fans-raises-more-questions-than-it-answers/ not found\n"
     ]
    },
    {
     "name": "stderr",
     "output_type": "stream",
     "text": [
      " 32%|███▏      | 614/1916 [16:44<26:38,  1.23s/it]"
     ]
    },
    {
     "name": "stdout",
     "output_type": "stream",
     "text": [
      "https://guacamoley.com/they-tried-it/2019/03/15/a-surgeon-who-appeared-on-i-am-jazz-has-been-fired-for-posting-pictures-of-transgender-patients-genitals-to-instagram/ not found\n"
     ]
    },
    {
     "name": "stderr",
     "output_type": "stream",
     "text": [
      " 32%|███▏      | 615/1916 [16:45<27:04,  1.25s/it]"
     ]
    },
    {
     "name": "stdout",
     "output_type": "stream",
     "text": [
      "https://guacamoley.com/the-scoop/2019/03/15/life-improved-woman-ditches-service-job-become-plus-size-porn-star/ not found\n"
     ]
    },
    {
     "name": "stderr",
     "output_type": "stream",
     "text": [
      " 32%|███▏      | 616/1916 [16:47<27:55,  1.29s/it]"
     ]
    },
    {
     "name": "stdout",
     "output_type": "stream",
     "text": [
      "https://guacamoley.com/the-scoop/2019/03/15/exposing-swiss-cheese-hip-hop-music-taste-better/ not found\n"
     ]
    },
    {
     "name": "stderr",
     "output_type": "stream",
     "text": [
      " 32%|███▏      | 617/1916 [16:48<27:42,  1.28s/it]"
     ]
    },
    {
     "name": "stdout",
     "output_type": "stream",
     "text": [
      "https://guacamoley.com/the-scoop/2019/04/17/trump-just-threw-some-serious-shade-at-fox-news-for-their-very-strange-town-hall-with-bernie-sanders/ not found\n"
     ]
    },
    {
     "name": "stderr",
     "output_type": "stream",
     "text": [
      " 32%|███▏      | 618/1916 [16:49<27:13,  1.26s/it]"
     ]
    },
    {
     "name": "stdout",
     "output_type": "stream",
     "text": [
      "https://guacamoley.com/celebri-tea/2019/04/17/dax-shepard-just-told-a-bonkers-story-about-how-he-once-had-sex-with-a-bowl-of-jell-o-and-were-not-ok/ not found\n"
     ]
    },
    {
     "name": "stderr",
     "output_type": "stream",
     "text": [
      " 32%|███▏      | 619/1916 [16:51<27:04,  1.25s/it]"
     ]
    },
    {
     "name": "stdout",
     "output_type": "stream",
     "text": [
      "https://guacamoley.com/they-tried-it/2019/04/17/conservative-commentator-claims-voters-will-flock-to-trump-in-2020-because-pete-buttigieg-is-apparently-so-unusual-and-frightening/ not found\n"
     ]
    },
    {
     "name": "stderr",
     "output_type": "stream",
     "text": [
      " 32%|███▏      | 620/1916 [16:52<26:23,  1.22s/it]"
     ]
    },
    {
     "name": "stdout",
     "output_type": "stream",
     "text": [
      "https://guacamoley.com/they-tried-it/2019/04/16/drunk-scottish-guy-records-hilarious-video-after-waking-up-in-someone-elses-house-and-realizing-he-tried-and-failed-to-cook-noodles/ not found\n"
     ]
    },
    {
     "name": "stderr",
     "output_type": "stream",
     "text": [
      " 34%|███▎      | 646/1916 [17:48<58:29,  2.76s/it]"
     ]
    },
    {
     "name": "stdout",
     "output_type": "stream",
     "text": [
      "https://www.infowars.com/biological-male-is-top-ranked-ncaa-womens-track-star/ not found\n"
     ]
    },
    {
     "name": "stderr",
     "output_type": "stream",
     "text": [
      " 34%|███▍      | 647/1916 [17:49<49:57,  2.36s/it]"
     ]
    },
    {
     "name": "stdout",
     "output_type": "stream",
     "text": [
      "https://www.infowars.com/islamist-tyrant-erdogan-threatens-new-zealanders-theyll-return-in-coffins-if-they-visit-turkey/ not found\n"
     ]
    },
    {
     "name": "stderr",
     "output_type": "stream",
     "text": [
      " 34%|███▍      | 648/1916 [17:50<42:01,  1.99s/it]"
     ]
    },
    {
     "name": "stdout",
     "output_type": "stream",
     "text": [
      "https://www.infowars.com/criminal-defamation-bernie-sanders-says-kaitlin-bennett-is-a-white-supremacist/ not found\n"
     ]
    },
    {
     "name": "stderr",
     "output_type": "stream",
     "text": [
      " 34%|███▍      | 649/1916 [17:51<36:36,  1.73s/it]"
     ]
    },
    {
     "name": "stdout",
     "output_type": "stream",
     "text": [
      "https://www.infowars.com/dem-controlled-house-passes-repeal-of-president-trumps-national-emergency-declaration/ not found\n"
     ]
    },
    {
     "name": "stderr",
     "output_type": "stream",
     "text": [
      " 34%|███▍      | 650/1916 [17:52<32:59,  1.56s/it]"
     ]
    },
    {
     "name": "stdout",
     "output_type": "stream",
     "text": [
      "https://www.infowars.com/this-alex-jones-podcast-is-really-freaking-people-out/ not found\n"
     ]
    },
    {
     "name": "stderr",
     "output_type": "stream",
     "text": [
      " 34%|███▍      | 651/1916 [17:54<30:14,  1.43s/it]"
     ]
    },
    {
     "name": "stdout",
     "output_type": "stream",
     "text": [
      "https://www.infowars.com/irs-insider-federal-reserve-committed-over-100-years-of-fraud-and-deceit/ not found\n"
     ]
    },
    {
     "name": "stderr",
     "output_type": "stream",
     "text": [
      " 34%|███▍      | 652/1916 [17:55<28:22,  1.35s/it]"
     ]
    },
    {
     "name": "stdout",
     "output_type": "stream",
     "text": [
      "https://www.infowars.com/the-reasons-why-the-pope-has-not-defrocked-cardinal-pell/ not found\n"
     ]
    },
    {
     "name": "stderr",
     "output_type": "stream",
     "text": [
      " 34%|███▍      | 653/1916 [17:56<26:54,  1.28s/it]"
     ]
    },
    {
     "name": "stdout",
     "output_type": "stream",
     "text": [
      "https://www.infowars.com/free-speech-goes-dark-web-is-facebook-massacre-video-real/ not found\n"
     ]
    },
    {
     "name": "stderr",
     "output_type": "stream",
     "text": [
      " 34%|███▍      | 654/1916 [17:57<25:49,  1.23s/it]"
     ]
    },
    {
     "name": "stdout",
     "output_type": "stream",
     "text": [
      "https://www.infowars.com/chinese-social-media-users-paying-strangers-to-shower-them-with-compliments/ not found\n"
     ]
    },
    {
     "name": "stderr",
     "output_type": "stream",
     "text": [
      " 34%|███▍      | 655/1916 [17:58<25:27,  1.21s/it]"
     ]
    },
    {
     "name": "stdout",
     "output_type": "stream",
     "text": [
      "https://www.infowars.com/watch-live-globalists-restricting-free-speech-following-new-zealand-attack/ not found\n"
     ]
    },
    {
     "name": "stderr",
     "output_type": "stream",
     "text": [
      " 34%|███▍      | 656/1916 [17:59<24:49,  1.18s/it]"
     ]
    },
    {
     "name": "stdout",
     "output_type": "stream",
     "text": [
      "https://www.infowars.com/high-school-teen-ordered-to-remove-maga-shirt-hat-receives-apology-from-principal/ not found\n"
     ]
    },
    {
     "name": "stderr",
     "output_type": "stream",
     "text": [
      " 34%|███▍      | 657/1916 [18:00<24:55,  1.19s/it]"
     ]
    },
    {
     "name": "stdout",
     "output_type": "stream",
     "text": [
      "https://www.infowars.com/alabama-senator-gets-more-large-donations-from-california-ny-than-own-residents/ not found\n"
     ]
    },
    {
     "name": "stderr",
     "output_type": "stream",
     "text": [
      " 34%|███▍      | 658/1916 [18:02<24:34,  1.17s/it]"
     ]
    },
    {
     "name": "stdout",
     "output_type": "stream",
     "text": [
      "https://www.infowars.com/bernie-supporters-cant-define-socialism/ not found\n"
     ]
    },
    {
     "name": "stderr",
     "output_type": "stream",
     "text": [
      " 34%|███▍      | 659/1916 [18:03<24:27,  1.17s/it]"
     ]
    },
    {
     "name": "stdout",
     "output_type": "stream",
     "text": [
      "https://www.infowars.com/red-alert-trump-is-handing-control-of-the-internet-over-to-the-un-eu-we-only-have-months-to-stop-it/ not found\n"
     ]
    },
    {
     "name": "stderr",
     "output_type": "stream",
     "text": [
      " 34%|███▍      | 660/1916 [18:04<24:34,  1.17s/it]"
     ]
    },
    {
     "name": "stdout",
     "output_type": "stream",
     "text": [
      "https://www.infowars.com/obama-border-patrol-head-crisis-is-worst-in-the-history-of-the-country/ not found\n"
     ]
    },
    {
     "name": "stderr",
     "output_type": "stream",
     "text": [
      " 40%|███▉      | 765/1916 [21:10<59:41,  3.11s/it]"
     ]
    },
    {
     "name": "stdout",
     "output_type": "stream",
     "text": [
      "Morning Joe not found\n"
     ]
    },
    {
     "name": "stderr",
     "output_type": "stream",
     "text": [
      " 40%|███▉      | 766/1916 [21:11<47:32,  2.48s/it]"
     ]
    },
    {
     "name": "stdout",
     "output_type": "stream",
     "text": [
      "MSNBC Live with Stephanie Ruhle not found\n"
     ]
    },
    {
     "name": "stderr",
     "output_type": "stream",
     "text": [
      " 40%|████      | 767/1916 [21:12<39:00,  2.04s/it]"
     ]
    },
    {
     "name": "stdout",
     "output_type": "stream",
     "text": [
      "MSNBC Live with Hallie Jackson not found\n"
     ]
    },
    {
     "name": "stderr",
     "output_type": "stream",
     "text": [
      " 40%|████      | 768/1916 [21:13<33:03,  1.73s/it]"
     ]
    },
    {
     "name": "stdout",
     "output_type": "stream",
     "text": [
      "Velshi & Ruhle not found\n"
     ]
    },
    {
     "name": "stderr",
     "output_type": "stream",
     "text": [
      " 40%|████      | 769/1916 [21:14<28:53,  1.51s/it]"
     ]
    },
    {
     "name": "stdout",
     "output_type": "stream",
     "text": [
      "MSNBC Live with Ali Velshi not found\n"
     ]
    },
    {
     "name": "stderr",
     "output_type": "stream",
     "text": [
      " 40%|████      | 770/1916 [21:15<25:57,  1.36s/it]"
     ]
    },
    {
     "name": "stdout",
     "output_type": "stream",
     "text": [
      "MTP Daily not found\n"
     ]
    },
    {
     "name": "stderr",
     "output_type": "stream",
     "text": [
      " 40%|████      | 771/1916 [21:16<23:53,  1.25s/it]"
     ]
    },
    {
     "name": "stdout",
     "output_type": "stream",
     "text": [
      "The Beat With Ari Melber not found\n"
     ]
    },
    {
     "name": "stderr",
     "output_type": "stream",
     "text": [
      " 40%|████      | 772/1916 [21:17<22:27,  1.18s/it]"
     ]
    },
    {
     "name": "stdout",
     "output_type": "stream",
     "text": [
      "Hardball with Chris Matthews not found\n"
     ]
    },
    {
     "name": "stderr",
     "output_type": "stream",
     "text": [
      " 40%|████      | 773/1916 [21:18<21:27,  1.13s/it]"
     ]
    },
    {
     "name": "stdout",
     "output_type": "stream",
     "text": [
      "The Rachel Maddow Show not found\n"
     ]
    },
    {
     "name": "stderr",
     "output_type": "stream",
     "text": [
      " 40%|████      | 774/1916 [21:19<20:45,  1.09s/it]"
     ]
    },
    {
     "name": "stdout",
     "output_type": "stream",
     "text": [
      "The Last Word with Lawrence O'Donnell not found\n"
     ]
    },
    {
     "name": "stderr",
     "output_type": "stream",
     "text": [
      " 40%|████      | 775/1916 [21:20<20:15,  1.07s/it]"
     ]
    },
    {
     "name": "stdout",
     "output_type": "stream",
     "text": [
      "The 11th Hour with Brian Williams not found\n"
     ]
    },
    {
     "name": "stderr",
     "output_type": "stream",
     "text": [
      " 41%|████      | 776/1916 [21:21<19:53,  1.05s/it]"
     ]
    },
    {
     "name": "stdout",
     "output_type": "stream",
     "text": [
      "Morning Joe First Look not found\n"
     ]
    },
    {
     "name": "stderr",
     "output_type": "stream",
     "text": [
      " 41%|████      | 777/1916 [21:22<19:37,  1.03s/it]"
     ]
    },
    {
     "name": "stdout",
     "output_type": "stream",
     "text": [
      "Andrea Mitchell Reports not found\n"
     ]
    },
    {
     "name": "stderr",
     "output_type": "stream",
     "text": [
      " 41%|████      | 778/1916 [21:23<19:26,  1.03s/it]"
     ]
    },
    {
     "name": "stdout",
     "output_type": "stream",
     "text": [
      "Velshi & Ruhle not found\n"
     ]
    },
    {
     "name": "stderr",
     "output_type": "stream",
     "text": [
      " 41%|████      | 779/1916 [21:24<19:19,  1.02s/it]"
     ]
    },
    {
     "name": "stdout",
     "output_type": "stream",
     "text": [
      "MSNBC Live with Katy Tur not found\n"
     ]
    },
    {
     "name": "stderr",
     "output_type": "stream",
     "text": [
      " 41%|████      | 780/1916 [21:25<19:13,  1.02s/it]"
     ]
    },
    {
     "name": "stdout",
     "output_type": "stream",
     "text": [
      "MTP Daily not found\n"
     ]
    },
    {
     "name": "stderr",
     "output_type": "stream",
     "text": [
      " 41%|████      | 781/1916 [21:26<19:08,  1.01s/it]"
     ]
    },
    {
     "name": "stdout",
     "output_type": "stream",
     "text": [
      "The Beat With Ari Melber not found\n"
     ]
    },
    {
     "name": "stderr",
     "output_type": "stream",
     "text": [
      " 41%|████      | 782/1916 [21:27<19:04,  1.01s/it]"
     ]
    },
    {
     "name": "stdout",
     "output_type": "stream",
     "text": [
      "Hardball with Chris Matthews not found\n"
     ]
    },
    {
     "name": "stderr",
     "output_type": "stream",
     "text": [
      " 41%|████      | 783/1916 [21:28<19:01,  1.01s/it]"
     ]
    },
    {
     "name": "stdout",
     "output_type": "stream",
     "text": [
      "The Last Word with Lawrence O'Donnell not found\n"
     ]
    },
    {
     "name": "stderr",
     "output_type": "stream",
     "text": [
      " 41%|████      | 784/1916 [21:29<18:58,  1.01s/it]"
     ]
    },
    {
     "name": "stdout",
     "output_type": "stream",
     "text": [
      "The 11th Hour with Brian Williams not found\n"
     ]
    },
    {
     "name": "stderr",
     "output_type": "stream",
     "text": [
      " 41%|████      | 785/1916 [21:30<18:57,  1.01s/it]"
     ]
    },
    {
     "name": "stdout",
     "output_type": "stream",
     "text": [
      "Kasie DC not found\n"
     ]
    },
    {
     "name": "stderr",
     "output_type": "stream",
     "text": [
      " 43%|████▎     | 820/1916 [22:43<26:30,  1.45s/it]"
     ]
    },
    {
     "name": "stdout",
     "output_type": "stream",
     "text": [
      "MSNBC Live with Craig Melvin not found\n"
     ]
    },
    {
     "name": "stderr",
     "output_type": "stream",
     "text": [
      " 43%|████▎     | 821/1916 [22:44<24:02,  1.32s/it]"
     ]
    },
    {
     "name": "stdout",
     "output_type": "stream",
     "text": [
      "Andrea Mitchell Reports not found\n"
     ]
    },
    {
     "name": "stderr",
     "output_type": "stream",
     "text": [
      " 43%|████▎     | 822/1916 [22:45<22:19,  1.22s/it]"
     ]
    },
    {
     "name": "stdout",
     "output_type": "stream",
     "text": [
      "MSNBC Live with Katy Tur not found\n"
     ]
    },
    {
     "name": "stderr",
     "output_type": "stream",
     "text": [
      " 43%|████▎     | 823/1916 [22:46<21:06,  1.16s/it]"
     ]
    },
    {
     "name": "stdout",
     "output_type": "stream",
     "text": [
      "Deadline: White House not found\n"
     ]
    },
    {
     "name": "stderr",
     "output_type": "stream",
     "text": [
      " 43%|████▎     | 824/1916 [22:47<20:15,  1.11s/it]"
     ]
    },
    {
     "name": "stdout",
     "output_type": "stream",
     "text": [
      "AM Joy not found\n"
     ]
    },
    {
     "name": "stderr",
     "output_type": "stream",
     "text": [
      " 43%|████▎     | 825/1916 [22:48<19:38,  1.08s/it]"
     ]
    },
    {
     "name": "stdout",
     "output_type": "stream",
     "text": [
      "PoliticsNation with Al Sharpton not found\n"
     ]
    },
    {
     "name": "stderr",
     "output_type": "stream",
     "text": [
      " 43%|████▎     | 826/1916 [22:49<19:12,  1.06s/it]"
     ]
    },
    {
     "name": "stdout",
     "output_type": "stream",
     "text": [
      "MSNBC Live with Ali Velshi not found\n"
     ]
    },
    {
     "name": "stderr",
     "output_type": "stream",
     "text": [
      " 43%|████▎     | 827/1916 [22:50<18:54,  1.04s/it]"
     ]
    },
    {
     "name": "stdout",
     "output_type": "stream",
     "text": [
      "Deadline: White House not found\n"
     ]
    },
    {
     "name": "stderr",
     "output_type": "stream",
     "text": [
      " 43%|████▎     | 828/1916 [22:51<18:42,  1.03s/it]"
     ]
    },
    {
     "name": "stdout",
     "output_type": "stream",
     "text": [
      "AM Joy not found\n"
     ]
    },
    {
     "name": "stderr",
     "output_type": "stream",
     "text": [
      " 43%|████▎     | 829/1916 [22:52<18:33,  1.02s/it]"
     ]
    },
    {
     "name": "stdout",
     "output_type": "stream",
     "text": [
      "PoliticsNation with Al Sharpton not found\n"
     ]
    },
    {
     "name": "stderr",
     "output_type": "stream",
     "text": [
      " 43%|████▎     | 830/1916 [22:53<18:26,  1.02s/it]"
     ]
    },
    {
     "name": "stdout",
     "output_type": "stream",
     "text": [
      "MSNBC Live with Alex Witt not found\n"
     ]
    },
    {
     "name": "stderr",
     "output_type": "stream",
     "text": [
      " 55%|█████▍    | 1047/1916 [29:26<35:02,  2.42s/it]"
     ]
    },
    {
     "name": "stdout",
     "output_type": "stream",
     "text": [
      "https://newspunch.com/exclusive-deep-state-planning-system-similar-to-amber-alert-to-influence-mid-terms/ not found\n"
     ]
    },
    {
     "name": "stderr",
     "output_type": "stream",
     "text": [
      " 56%|█████▌    | 1070/1916 [30:09<30:08,  2.14s/it]"
     ]
    },
    {
     "name": "stdout",
     "output_type": "stream",
     "text": [
      "https://www.oann.com/white-house-issues-prospective-veto-of-national-emergency-block/ not found\n"
     ]
    },
    {
     "name": "stderr",
     "output_type": "stream",
     "text": [
      " 56%|█████▌    | 1071/1916 [30:12<33:44,  2.40s/it]"
     ]
    },
    {
     "name": "stdout",
     "output_type": "stream",
     "text": [
      "https://www.oann.com/u-s-agriculture-secretary-u-s-team-looking-for-china-to-slash-ethanol-tariffs/ not found\n"
     ]
    },
    {
     "name": "stderr",
     "output_type": "stream",
     "text": [
      " 56%|█████▌    | 1072/1916 [30:15<36:38,  2.60s/it]"
     ]
    },
    {
     "name": "stdout",
     "output_type": "stream",
     "text": [
      "https://www.oann.com/white-house-slams-michael-cohen-as-disgraced-felon-and-convicted-liar/ not found\n"
     ]
    },
    {
     "name": "stderr",
     "output_type": "stream",
     "text": [
      " 56%|█████▌    | 1073/1916 [30:18<37:32,  2.67s/it]"
     ]
    },
    {
     "name": "stdout",
     "output_type": "stream",
     "text": [
      "https://www.oann.com/senate-democrats-block-infanticide-bill/ not found\n"
     ]
    },
    {
     "name": "stderr",
     "output_type": "stream",
     "text": [
      " 56%|█████▌    | 1074/1916 [30:21<38:51,  2.77s/it]"
     ]
    },
    {
     "name": "stdout",
     "output_type": "stream",
     "text": [
      "https://www.oann.com/scotus-gives-pres-trump-victory-on-immigration-upholds-push-to-detain-illegals/ not found\n"
     ]
    },
    {
     "name": "stderr",
     "output_type": "stream",
     "text": [
      " 56%|█████▌    | 1075/1916 [30:24<40:12,  2.87s/it]"
     ]
    },
    {
     "name": "stdout",
     "output_type": "stream",
     "text": [
      "https://www.oann.com/migrant-caravan-advancing-toward-u-s-from-southern-mexico/ not found\n"
     ]
    },
    {
     "name": "stderr",
     "output_type": "stream",
     "text": [
      " 56%|█████▌    | 1076/1916 [30:27<40:35,  2.90s/it]"
     ]
    },
    {
     "name": "stdout",
     "output_type": "stream",
     "text": [
      "https://www.oann.com/president-trump-lays-into-fox-news-after-bernie-sanders-town-hall-segment/ not found\n"
     ]
    },
    {
     "name": "stderr",
     "output_type": "stream",
     "text": [
      " 56%|█████▌    | 1077/1916 [30:29<38:38,  2.76s/it]"
     ]
    },
    {
     "name": "stdout",
     "output_type": "stream",
     "text": [
      "https://www.oann.com/secretary-of-state-pompeo-meets-with-vietnamese-foreign-minister-deputy-prime-minister/ not found\n"
     ]
    },
    {
     "name": "stderr",
     "output_type": "stream",
     "text": [
      " 56%|█████▋    | 1078/1916 [30:33<40:36,  2.91s/it]"
     ]
    },
    {
     "name": "stdout",
     "output_type": "stream",
     "text": [
      "https://www.oann.com/attorney-general-barr-rules-illegal-immigrants-must-be-detained-during-deportation/ not found\n"
     ]
    },
    {
     "name": "stderr",
     "output_type": "stream",
     "text": [
      " 56%|█████▋    | 1079/1916 [30:35<40:31,  2.91s/it]"
     ]
    },
    {
     "name": "stdout",
     "output_type": "stream",
     "text": [
      "https://www.oann.com/judicial-watch-seeking-fbi-dossier-info/ not found\n"
     ]
    },
    {
     "name": "stderr",
     "output_type": "stream",
     "text": [
      " 67%|██████▋   | 1290/1916 [36:44<22:08,  2.12s/it]"
     ]
    },
    {
     "name": "stdout",
     "output_type": "stream",
     "text": [
      "https://secondnexus.com/news/devices-hack-brain-tdcs-terrifying/ not found\n"
     ]
    },
    {
     "name": "stderr",
     "output_type": "stream",
     "text": [
      " 81%|████████  | 1555/1916 [44:54<10:34,  1.76s/it]"
     ]
    },
    {
     "name": "stdout",
     "output_type": "stream",
     "text": [
      "http://time.com/5538943/mark-harris-not-running-again-north-carolina/ not found\n"
     ]
    },
    {
     "name": "stderr",
     "output_type": "stream",
     "text": [
      " 81%|████████  | 1556/1916 [44:56<10:56,  1.82s/it]"
     ]
    },
    {
     "name": "stdout",
     "output_type": "stream",
     "text": [
      "http://time.com/5538407/house-subpoena-trump-officials-separation/ not found\n"
     ]
    },
    {
     "name": "stderr",
     "output_type": "stream",
     "text": [
      " 81%|████████▏ | 1558/1916 [44:59<10:07,  1.70s/it]"
     ]
    },
    {
     "name": "stdout",
     "output_type": "stream",
     "text": [
      "http://time.com/5554632/new-zealand-christchurch-mosque-shootings-burial/ not found\n"
     ]
    },
    {
     "name": "stderr",
     "output_type": "stream",
     "text": [
      "100%|██████████| 1916/1916 [56:43<00:00,  1.78s/it]\n"
     ]
    }
   ],
   "source": [
    "urls = []\n",
    "content = []\n",
    "\n",
    "for index, row in tqdm(df.iterrows(), total=df.shape[0]):\n",
    "    url = row[\"Url\"]\n",
    "    urls.append(url)\n",
    "    a = Article(row[\"Url\"])\n",
    "    try:\n",
    "        a.download()\n",
    "        a.parse()\n",
    "        content.append(a.text)\n",
    "    except:\n",
    "        print(url, \"not found\")\n",
    "        content.append(None)\n",
    "        \n",
    "    time.sleep(1)\n",
    "    "
   ]
  },
  {
   "cell_type": "code",
   "execution_count": 7,
   "metadata": {},
   "outputs": [],
   "source": [
    "df[\"content\"] = content"
   ]
  },
  {
   "cell_type": "code",
   "execution_count": 8,
   "metadata": {},
   "outputs": [
    {
     "data": {
      "text/html": [
       "<div>\n",
       "<style scoped>\n",
       "    .dataframe tbody tr th:only-of-type {\n",
       "        vertical-align: middle;\n",
       "    }\n",
       "\n",
       "    .dataframe tbody tr th {\n",
       "        vertical-align: top;\n",
       "    }\n",
       "\n",
       "    .dataframe thead th {\n",
       "        text-align: right;\n",
       "    }\n",
       "</style>\n",
       "<table border=\"1\" class=\"dataframe\">\n",
       "  <thead>\n",
       "    <tr style=\"text-align: right;\">\n",
       "      <th></th>\n",
       "      <th>Source</th>\n",
       "      <th>Url</th>\n",
       "      <th>Bias</th>\n",
       "      <th>Quality</th>\n",
       "      <th>content</th>\n",
       "    </tr>\n",
       "  </thead>\n",
       "  <tbody>\n",
       "    <tr>\n",
       "      <th>0</th>\n",
       "      <td>ABC</td>\n",
       "      <td>https://abcnews.go.com/Politics/us-disrupted-a...</td>\n",
       "      <td>-5.33</td>\n",
       "      <td>52.33</td>\n",
       "      <td>US disrupted alleged Russian trolls' internet ...</td>\n",
       "    </tr>\n",
       "    <tr>\n",
       "      <th>1</th>\n",
       "      <td>ABC</td>\n",
       "      <td>https://abcnews.go.com/Politics/appeals-court-...</td>\n",
       "      <td>0.67</td>\n",
       "      <td>51.67</td>\n",
       "      <td>Appeals court says special counsel Robert Muel...</td>\n",
       "    </tr>\n",
       "    <tr>\n",
       "      <th>2</th>\n",
       "      <td>ABC</td>\n",
       "      <td>https://abcnews.go.com/Politics/electoral-coll...</td>\n",
       "      <td>-10.00</td>\n",
       "      <td>32.00</td>\n",
       "      <td>The Electoral College limits the campaign play...</td>\n",
       "    </tr>\n",
       "    <tr>\n",
       "      <th>3</th>\n",
       "      <td>ABC</td>\n",
       "      <td>https://abcnews.go.com/Politics/facebook-agree...</td>\n",
       "      <td>-2.33</td>\n",
       "      <td>52.33</td>\n",
       "      <td>Facebook agrees to hide demographics from land...</td>\n",
       "    </tr>\n",
       "    <tr>\n",
       "      <th>4</th>\n",
       "      <td>ABC</td>\n",
       "      <td>https://abcnews.go.com/Politics/donald-trump-t...</td>\n",
       "      <td>-4.33</td>\n",
       "      <td>52.67</td>\n",
       "      <td>Donald Trump and 'the Trump of the Tropics,' B...</td>\n",
       "    </tr>\n",
       "    <tr>\n",
       "      <th>...</th>\n",
       "      <td>...</td>\n",
       "      <td>...</td>\n",
       "      <td>...</td>\n",
       "      <td>...</td>\n",
       "      <td>...</td>\n",
       "    </tr>\n",
       "    <tr>\n",
       "      <th>1911</th>\n",
       "      <td>WorldNetDaily</td>\n",
       "      <td>https://www.wnd.com/2019/04/doj-sued-for-detai...</td>\n",
       "      <td>30.50</td>\n",
       "      <td>21.25</td>\n",
       "      <td>Washington watchdog Judicial Watch believes th...</td>\n",
       "    </tr>\n",
       "    <tr>\n",
       "      <th>1912</th>\n",
       "      <td>WorldNetDaily</td>\n",
       "      <td>https://www.wnd.com/2019/04/fox-news-stars-pul...</td>\n",
       "      <td>29.75</td>\n",
       "      <td>12.00</td>\n",
       "      <td>Two Fox News personalities, as Notre Dame Cath...</td>\n",
       "    </tr>\n",
       "    <tr>\n",
       "      <th>1913</th>\n",
       "      <td>WorldNetDaily</td>\n",
       "      <td>https://www.wnd.com/2019/04/12-french-churches...</td>\n",
       "      <td>19.75</td>\n",
       "      <td>19.75</td>\n",
       "      <td>Only hours after the first flames that eventua...</td>\n",
       "    </tr>\n",
       "    <tr>\n",
       "      <th>1914</th>\n",
       "      <td>WorldNetDaily</td>\n",
       "      <td>https://www.wnd.com/2019/04/schiff-launches-ne...</td>\n",
       "      <td>26.00</td>\n",
       "      <td>23.25</td>\n",
       "      <td>Rep. Adam Schiff, D-Calif., unwilling to give ...</td>\n",
       "    </tr>\n",
       "    <tr>\n",
       "      <th>1915</th>\n",
       "      <td>WorldNetDaily</td>\n",
       "      <td>https://www.wnd.com/2019/03/use-wrong-pronoun-...</td>\n",
       "      <td>15.72</td>\n",
       "      <td>25.61</td>\n",
       "      <td>Remember back in the day when your English tea...</td>\n",
       "    </tr>\n",
       "  </tbody>\n",
       "</table>\n",
       "<p>1916 rows × 5 columns</p>\n",
       "</div>"
      ],
      "text/plain": [
       "             Source                                                Url   Bias  \\\n",
       "0               ABC  https://abcnews.go.com/Politics/us-disrupted-a...  -5.33   \n",
       "1               ABC  https://abcnews.go.com/Politics/appeals-court-...   0.67   \n",
       "2               ABC  https://abcnews.go.com/Politics/electoral-coll... -10.00   \n",
       "3               ABC  https://abcnews.go.com/Politics/facebook-agree...  -2.33   \n",
       "4               ABC  https://abcnews.go.com/Politics/donald-trump-t...  -4.33   \n",
       "...             ...                                                ...    ...   \n",
       "1911  WorldNetDaily  https://www.wnd.com/2019/04/doj-sued-for-detai...  30.50   \n",
       "1912  WorldNetDaily  https://www.wnd.com/2019/04/fox-news-stars-pul...  29.75   \n",
       "1913  WorldNetDaily  https://www.wnd.com/2019/04/12-french-churches...  19.75   \n",
       "1914  WorldNetDaily  https://www.wnd.com/2019/04/schiff-launches-ne...  26.00   \n",
       "1915  WorldNetDaily  https://www.wnd.com/2019/03/use-wrong-pronoun-...  15.72   \n",
       "\n",
       "      Quality                                            content  \n",
       "0       52.33  US disrupted alleged Russian trolls' internet ...  \n",
       "1       51.67  Appeals court says special counsel Robert Muel...  \n",
       "2       32.00  The Electoral College limits the campaign play...  \n",
       "3       52.33  Facebook agrees to hide demographics from land...  \n",
       "4       52.67  Donald Trump and 'the Trump of the Tropics,' B...  \n",
       "...       ...                                                ...  \n",
       "1911    21.25  Washington watchdog Judicial Watch believes th...  \n",
       "1912    12.00  Two Fox News personalities, as Notre Dame Cath...  \n",
       "1913    19.75  Only hours after the first flames that eventua...  \n",
       "1914    23.25  Rep. Adam Schiff, D-Calif., unwilling to give ...  \n",
       "1915    25.61  Remember back in the day when your English tea...  \n",
       "\n",
       "[1916 rows x 5 columns]"
      ]
     },
     "execution_count": 8,
     "metadata": {},
     "output_type": "execute_result"
    }
   ],
   "source": [
    "df"
   ]
  },
  {
   "cell_type": "code",
   "execution_count": 9,
   "metadata": {},
   "outputs": [],
   "source": [
    "df.to_pickle(\"../data/raw/mbc_scraped.pkl\")"
   ]
  },
  {
   "cell_type": "markdown",
   "metadata": {},
   "source": [
    "# NOTE: scraped on 1/24/2020"
   ]
  }
 ],
 "metadata": {
  "kernelspec": {
   "display_name": "Python 3",
   "language": "python",
   "name": "python3"
  },
  "language_info": {
   "codemirror_mode": {
    "name": "ipython",
    "version": 3
   },
   "file_extension": ".py",
   "mimetype": "text/x-python",
   "name": "python",
   "nbconvert_exporter": "python",
   "pygments_lexer": "ipython3",
   "version": "3.8.1"
  }
 },
 "nbformat": 4,
 "nbformat_minor": 4
}
