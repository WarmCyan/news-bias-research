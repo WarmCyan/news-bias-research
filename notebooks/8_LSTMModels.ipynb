{
 "cells": [
  {
   "cell_type": "markdown",
   "metadata": {},
   "source": [
    "# LSTM Models\n",
    "\n",
    "Created: 2019.10.18  \n",
    "Notebook sequence: 8\n",
    "\n",
    "For experimenting with keras lstm models\n",
    "\n",
    "---"
   ]
  },
  {
   "cell_type": "code",
   "execution_count": 1,
   "metadata": {},
   "outputs": [],
   "source": [
    "%load_ext autoreload\n",
    "%autoreload 2"
   ]
  },
  {
   "cell_type": "code",
   "execution_count": 2,
   "metadata": {},
   "outputs": [
    {
     "name": "stderr",
     "output_type": "stream",
     "text": [
      "Using TensorFlow backend.\n"
     ]
    }
   ],
   "source": [
    "import util\n",
    "import pandas as pd\n",
    "import keras\n",
    "import numpy as np\n",
    "from tqdm import tqdm_notebook as tqdm\n",
    "from keras.layers import LSTM, TimeDistributed, Dense, Dropout, Activation, Masking\n",
    "from sklearn.model_selection import train_test_split"
   ]
  },
  {
   "cell_type": "code",
   "execution_count": 4,
   "metadata": {},
   "outputs": [],
   "source": [
    "#data = util.load_dataset(\"os_reliable_w2v/sequence.pkl\")\n",
    "#df = util.load_selection_dataset(\"os_reliability.csv\")\n",
    "\n",
    "data = util.load_dataset(\"as_biased_w2v/sequence.pkl\")\n",
    "df = util.load_selection_dataset(\"as_bias.csv\")"
   ]
  },
  {
   "cell_type": "code",
   "execution_count": 11,
   "metadata": {},
   "outputs": [
    {
     "name": "stdout",
     "output_type": "stream",
     "text": [
      "(11916,)\n",
      "(541, 300)\n",
      "(190, 300)\n"
     ]
    },
    {
     "data": {
      "application/vnd.jupyter.widget-view+json": {
       "model_id": "076b56e0191247a3a7aa9b1571763d77",
       "version_major": 2,
       "version_minor": 0
      },
      "text/plain": [
       "HBox(children=(IntProgress(value=0, max=11916), HTML(value='')))"
      ]
     },
     "metadata": {},
     "output_type": "display_data"
    },
    {
     "name": "stdout",
     "output_type": "stream",
     "text": [
      "\n"
     ]
    }
   ],
   "source": [
    "y = list(df.biased)\n",
    "X = data\n",
    "X_train, X_valid, Y_train, Y_valid = train_test_split(X, y, test_size=0.20, random_state=12)\n",
    "# X_train = X\n",
    "# Y_train = y\n",
    "print(np.array(X_train).shape)\n",
    "print(X_train[0].shape)\n",
    "print(X_train[1].shape)\n",
    "\n",
    "maximum = 0\n",
    "lengths = []\n",
    "for entry in tqdm(X_train):\n",
    "    lengths.append(entry.shape[0])\n",
    "lengths = np.array(lengths)"
   ]
  },
  {
   "cell_type": "code",
   "execution_count": 27,
   "metadata": {},
   "outputs": [
    {
     "data": {
      "text/plain": [
       "32683"
      ]
     },
     "execution_count": 27,
     "metadata": {},
     "output_type": "execute_result"
    }
   ],
   "source": [
    "max(lengths)"
   ]
  },
  {
   "cell_type": "code",
   "execution_count": 28,
   "metadata": {},
   "outputs": [
    {
     "data": {
      "text/plain": [
       "525.4841221886539"
      ]
     },
     "execution_count": 28,
     "metadata": {},
     "output_type": "execute_result"
    }
   ],
   "source": [
    "lengths.mean()"
   ]
  },
  {
   "cell_type": "code",
   "execution_count": 6,
   "metadata": {},
   "outputs": [],
   "source": [
    "model = keras.Sequential()\n",
    "#model.add(LSTM(32, return_sequences=True, input_shape=(None, 300)))\n",
    "#model.add(TimeDistributed(Dense(2, activation='sigmoid')))\n",
    "#model.add(LSTM(64, return_sequences=True, input_shape=(100, 300)))\n",
    "model.add(Masking(mask_value=0.0, input_shape=(500, 300)))\n",
    "# dropout=0.0, recurrent_dropout=0.0\n",
    "model.add(LSTM(32, dropout=0.2, recurrent_dropout=0.2))\n",
    "#model.add(LSTM(64))\n",
    "#model.add(LSTM(256, return_sequences=True))\n",
    "#model.add(LSTM(128))\n",
    "#model.add(Dropout(.2))\n",
    "#model.add(Dense(128, activation='relu'))\n",
    "model.add(Dense(1, activation='sigmoid'))\n",
    "#model.add(Activation(\"softmax\"))"
   ]
  },
  {
   "cell_type": "code",
   "execution_count": 12,
   "metadata": {},
   "outputs": [],
   "source": [
    "\n",
    "X_train = np.array(X_train)\n",
    "Y_train = np.array(Y_train)\n",
    "#Y_train = keras.utils.to_categorical(Y_train)\n",
    "#Y_train = np.expand_dims(Y_train, axis=1)\n",
    "# Y_train = np.expand_dims(Y_train, axis=1)\n",
    "X_train_padded = keras.preprocessing.sequence.pad_sequences(X_train, maxlen=500, padding='post', dtype='float32')\n"
   ]
  },
  {
   "cell_type": "code",
   "execution_count": 8,
   "metadata": {},
   "outputs": [
    {
     "data": {
      "text/plain": [
       "(11916,)"
      ]
     },
     "execution_count": 8,
     "metadata": {},
     "output_type": "execute_result"
    }
   ],
   "source": [
    "X_train.shape"
   ]
  },
  {
   "cell_type": "code",
   "execution_count": 9,
   "metadata": {},
   "outputs": [
    {
     "data": {
      "text/plain": [
       "(11916, 500, 300)"
      ]
     },
     "execution_count": 9,
     "metadata": {},
     "output_type": "execute_result"
    }
   ],
   "source": [
    "X_train_padded.shape"
   ]
  },
  {
   "cell_type": "code",
   "execution_count": 24,
   "metadata": {},
   "outputs": [
    {
     "data": {
      "text/plain": [
       "array([[-0.10595703,  0.21386719,  0.11865234, ...,  0.10693359,\n",
       "         0.02368164, -0.03540039],\n",
       "       [-0.02233887, -0.00454712, -0.10009766, ..., -0.1796875 ,\n",
       "        -0.12158203, -0.09082031],\n",
       "       [-0.30859375,  0.18945312, -0.2734375 , ..., -0.05517578,\n",
       "         0.2265625 ,  0.24121094],\n",
       "       ...,\n",
       "       [ 0.        ,  0.        ,  0.        , ...,  0.        ,\n",
       "         0.        ,  0.        ],\n",
       "       [ 0.        ,  0.        ,  0.        , ...,  0.        ,\n",
       "         0.        ,  0.        ],\n",
       "       [ 0.        ,  0.        ,  0.        , ...,  0.        ,\n",
       "         0.        ,  0.        ]], dtype=float32)"
      ]
     },
     "execution_count": 24,
     "metadata": {},
     "output_type": "execute_result"
    }
   ],
   "source": [
    "X_train_padded[0]"
   ]
  },
  {
   "cell_type": "code",
   "execution_count": 9,
   "metadata": {},
   "outputs": [
    {
     "name": "stdout",
     "output_type": "stream",
     "text": [
      "(14895, 2)\n",
      "(14895, 500, 300)\n"
     ]
    }
   ],
   "source": [
    "print(Y_train.shape)\n",
    "print(X_train_padded.shape)\n"
   ]
  },
  {
   "cell_type": "code",
   "execution_count": 13,
   "metadata": {},
   "outputs": [
    {
     "name": "stdout",
     "output_type": "stream",
     "text": [
      "Model: \"sequential_1\"\n",
      "_________________________________________________________________\n",
      "Layer (type)                 Output Shape              Param #   \n",
      "=================================================================\n",
      "masking_1 (Masking)          (None, 500, 300)          0         \n",
      "_________________________________________________________________\n",
      "lstm_1 (LSTM)                (None, 32)                42624     \n",
      "_________________________________________________________________\n",
      "dense_1 (Dense)              (None, 1)                 33        \n",
      "=================================================================\n",
      "Total params: 42,657\n",
      "Trainable params: 42,657\n",
      "Non-trainable params: 0\n",
      "_________________________________________________________________\n",
      "Train on 9532 samples, validate on 2384 samples\n",
      "Epoch 1/100\n",
      "9532/9532 [==============================] - 47s 5ms/step - loss: 0.6255 - binary_accuracy: 0.6667 - val_loss: 0.5981 - val_binary_accuracy: 0.6921\n",
      "Epoch 2/100\n",
      "9532/9532 [==============================] - 45s 5ms/step - loss: 0.5957 - binary_accuracy: 0.6782 - val_loss: 0.5816 - val_binary_accuracy: 0.7005\n",
      "Epoch 3/100\n",
      "9532/9532 [==============================] - 46s 5ms/step - loss: 0.5740 - binary_accuracy: 0.6965 - val_loss: 0.5585 - val_binary_accuracy: 0.7013\n",
      "Epoch 4/100\n",
      "9532/9532 [==============================] - 46s 5ms/step - loss: 0.5695 - binary_accuracy: 0.6940 - val_loss: 0.5502 - val_binary_accuracy: 0.7055\n",
      "Epoch 5/100\n",
      "9532/9532 [==============================] - 48s 5ms/step - loss: 0.5562 - binary_accuracy: 0.7067 - val_loss: 0.5649 - val_binary_accuracy: 0.7085\n",
      "Epoch 6/100\n",
      "9532/9532 [==============================] - 46s 5ms/step - loss: 0.5593 - binary_accuracy: 0.7070 - val_loss: 0.5361 - val_binary_accuracy: 0.7102\n",
      "Epoch 7/100\n",
      "9532/9532 [==============================] - 49s 5ms/step - loss: 0.5442 - binary_accuracy: 0.7142 - val_loss: 0.6253 - val_binary_accuracy: 0.5961\n",
      "Epoch 8/100\n",
      "9532/9532 [==============================] - 50s 5ms/step - loss: 0.5470 - binary_accuracy: 0.7096 - val_loss: 0.5327 - val_binary_accuracy: 0.7139\n",
      "Epoch 9/100\n",
      "9532/9532 [==============================] - 51s 5ms/step - loss: 0.5300 - binary_accuracy: 0.7200 - val_loss: 0.5230 - val_binary_accuracy: 0.7320\n",
      "Epoch 10/100\n",
      "9532/9532 [==============================] - 51s 5ms/step - loss: 0.5281 - binary_accuracy: 0.7228 - val_loss: 0.5302 - val_binary_accuracy: 0.7181\n",
      "Epoch 11/100\n",
      "9532/9532 [==============================] - 51s 5ms/step - loss: 0.5191 - binary_accuracy: 0.7286 - val_loss: 0.5205 - val_binary_accuracy: 0.7253\n",
      "Epoch 12/100\n",
      "9532/9532 [==============================] - 51s 5ms/step - loss: 0.5116 - binary_accuracy: 0.7411 - val_loss: 0.5163 - val_binary_accuracy: 0.7294\n",
      "Epoch 13/100\n",
      "9532/9532 [==============================] - 49s 5ms/step - loss: 0.5081 - binary_accuracy: 0.7326 - val_loss: 0.5169 - val_binary_accuracy: 0.7320\n",
      "Epoch 14/100\n",
      "9532/9532 [==============================] - 54s 6ms/step - loss: 0.5258 - binary_accuracy: 0.7269 - val_loss: 0.5367 - val_binary_accuracy: 0.7160\n",
      "Epoch 15/100\n",
      "9532/9532 [==============================] - 59s 6ms/step - loss: 0.5059 - binary_accuracy: 0.7377 - val_loss: 0.5197 - val_binary_accuracy: 0.7232\n",
      "Epoch 16/100\n",
      "9532/9532 [==============================] - 51s 5ms/step - loss: 0.5015 - binary_accuracy: 0.7412 - val_loss: 0.5267 - val_binary_accuracy: 0.7177\n",
      "Epoch 17/100\n",
      "9532/9532 [==============================] - 46s 5ms/step - loss: 0.4910 - binary_accuracy: 0.7473 - val_loss: 0.5124 - val_binary_accuracy: 0.7269\n",
      "Epoch 18/100\n",
      "9532/9532 [==============================] - 45s 5ms/step - loss: 0.4838 - binary_accuracy: 0.7524 - val_loss: 0.5222 - val_binary_accuracy: 0.7399\n",
      "Epoch 19/100\n",
      "9532/9532 [==============================] - 46s 5ms/step - loss: 0.4777 - binary_accuracy: 0.7610 - val_loss: 0.5134 - val_binary_accuracy: 0.7202\n",
      "Epoch 20/100\n",
      "9532/9532 [==============================] - 43s 4ms/step - loss: 0.4696 - binary_accuracy: 0.7640 - val_loss: 0.5205 - val_binary_accuracy: 0.7169\n",
      "Epoch 21/100\n",
      "9532/9532 [==============================] - 41s 4ms/step - loss: 0.4634 - binary_accuracy: 0.7727 - val_loss: 0.5062 - val_binary_accuracy: 0.7349\n",
      "Epoch 22/100\n",
      "9532/9532 [==============================] - 40s 4ms/step - loss: 0.4583 - binary_accuracy: 0.7763 - val_loss: 0.5002 - val_binary_accuracy: 0.7458\n",
      "Epoch 23/100\n",
      "9532/9532 [==============================] - 40s 4ms/step - loss: 0.4553 - binary_accuracy: 0.7779 - val_loss: 0.4957 - val_binary_accuracy: 0.7362\n",
      "Epoch 24/100\n",
      "9532/9532 [==============================] - 41s 4ms/step - loss: 0.4458 - binary_accuracy: 0.7796 - val_loss: 0.5044 - val_binary_accuracy: 0.7441\n",
      "Epoch 25/100\n",
      "9532/9532 [==============================] - 41s 4ms/step - loss: 0.4400 - binary_accuracy: 0.7883 - val_loss: 0.4874 - val_binary_accuracy: 0.7429\n",
      "Epoch 26/100\n",
      "9532/9532 [==============================] - 41s 4ms/step - loss: 0.4374 - binary_accuracy: 0.7914 - val_loss: 0.5001 - val_binary_accuracy: 0.7336\n",
      "Epoch 27/100\n",
      "9532/9532 [==============================] - 41s 4ms/step - loss: 0.4385 - binary_accuracy: 0.7859 - val_loss: 0.4979 - val_binary_accuracy: 0.7349\n",
      "Epoch 28/100\n",
      "9532/9532 [==============================] - 42s 4ms/step - loss: 0.4314 - binary_accuracy: 0.7921 - val_loss: 0.4844 - val_binary_accuracy: 0.7441\n",
      "Epoch 29/100\n",
      "9532/9532 [==============================] - 42s 4ms/step - loss: 0.4310 - binary_accuracy: 0.7936 - val_loss: 0.4891 - val_binary_accuracy: 0.7370\n",
      "Epoch 30/100\n",
      "9532/9532 [==============================] - 41s 4ms/step - loss: 0.4173 - binary_accuracy: 0.8003 - val_loss: 0.4808 - val_binary_accuracy: 0.7525\n",
      "Epoch 31/100\n",
      "9532/9532 [==============================] - 41s 4ms/step - loss: 0.4112 - binary_accuracy: 0.8031 - val_loss: 0.4825 - val_binary_accuracy: 0.7550\n",
      "Epoch 32/100\n",
      "9532/9532 [==============================] - 42s 4ms/step - loss: 0.3984 - binary_accuracy: 0.8161 - val_loss: 0.4853 - val_binary_accuracy: 0.7576\n",
      "Epoch 33/100\n",
      "9532/9532 [==============================] - 44s 5ms/step - loss: 0.3963 - binary_accuracy: 0.8135 - val_loss: 0.4810 - val_binary_accuracy: 0.7475\n",
      "Epoch 34/100\n",
      "9532/9532 [==============================] - 47s 5ms/step - loss: 0.3849 - binary_accuracy: 0.8192 - val_loss: 0.4727 - val_binary_accuracy: 0.7676\n",
      "Epoch 35/100\n",
      "9532/9532 [==============================] - 48s 5ms/step - loss: 0.3780 - binary_accuracy: 0.8208 - val_loss: 0.4719 - val_binary_accuracy: 0.7655\n",
      "Epoch 36/100\n",
      "9532/9532 [==============================] - 49s 5ms/step - loss: 0.3696 - binary_accuracy: 0.8298 - val_loss: 0.4714 - val_binary_accuracy: 0.7743\n",
      "Epoch 37/100\n",
      "9532/9532 [==============================] - 49s 5ms/step - loss: 0.3653 - binary_accuracy: 0.8312 - val_loss: 0.4742 - val_binary_accuracy: 0.7605\n",
      "Epoch 38/100\n",
      "9532/9532 [==============================] - 49s 5ms/step - loss: 0.3573 - binary_accuracy: 0.8354 - val_loss: 0.4703 - val_binary_accuracy: 0.7689\n",
      "Epoch 39/100\n",
      "9532/9532 [==============================] - 50s 5ms/step - loss: 0.3499 - binary_accuracy: 0.8411 - val_loss: 0.4689 - val_binary_accuracy: 0.7760\n",
      "Epoch 40/100\n",
      "9532/9532 [==============================] - 49s 5ms/step - loss: 0.3495 - binary_accuracy: 0.8413 - val_loss: 0.4615 - val_binary_accuracy: 0.7802\n",
      "Epoch 41/100\n",
      "9532/9532 [==============================] - 47s 5ms/step - loss: 0.3375 - binary_accuracy: 0.8478 - val_loss: 0.4620 - val_binary_accuracy: 0.7785\n",
      "Epoch 42/100\n",
      "9532/9532 [==============================] - 47s 5ms/step - loss: 0.3316 - binary_accuracy: 0.8559 - val_loss: 0.4657 - val_binary_accuracy: 0.7840\n",
      "Epoch 43/100\n",
      "9532/9532 [==============================] - 47s 5ms/step - loss: 0.3287 - binary_accuracy: 0.8548 - val_loss: 0.4506 - val_binary_accuracy: 0.7890\n",
      "Epoch 44/100\n",
      "9532/9532 [==============================] - 50s 5ms/step - loss: 0.3233 - binary_accuracy: 0.8571 - val_loss: 0.4502 - val_binary_accuracy: 0.7953\n",
      "Epoch 45/100\n",
      "9532/9532 [==============================] - 47s 5ms/step - loss: 0.3183 - binary_accuracy: 0.8605 - val_loss: 0.4443 - val_binary_accuracy: 0.7945\n",
      "Epoch 46/100\n",
      "9532/9532 [==============================] - 45s 5ms/step - loss: 0.3082 - binary_accuracy: 0.8640 - val_loss: 0.4378 - val_binary_accuracy: 0.8054\n",
      "Epoch 47/100\n",
      "9532/9532 [==============================] - 47s 5ms/step - loss: 0.3027 - binary_accuracy: 0.8679 - val_loss: 0.4352 - val_binary_accuracy: 0.8037\n",
      "Epoch 48/100\n",
      "9532/9532 [==============================] - 50s 5ms/step - loss: 0.2925 - binary_accuracy: 0.8720 - val_loss: 0.4439 - val_binary_accuracy: 0.8045\n",
      "Epoch 49/100\n",
      "9532/9532 [==============================] - 56s 6ms/step - loss: 0.2897 - binary_accuracy: 0.8744 - val_loss: 0.4365 - val_binary_accuracy: 0.7978\n",
      "Epoch 50/100\n",
      "9532/9532 [==============================] - 50s 5ms/step - loss: 0.2829 - binary_accuracy: 0.8807 - val_loss: 0.4430 - val_binary_accuracy: 0.8008\n",
      "Epoch 51/100\n",
      "9532/9532 [==============================] - 47s 5ms/step - loss: 0.2849 - binary_accuracy: 0.8777 - val_loss: 0.4349 - val_binary_accuracy: 0.8029\n",
      "Epoch 52/100\n",
      "9532/9532 [==============================] - 50s 5ms/step - loss: 0.2762 - binary_accuracy: 0.8809 - val_loss: 0.4253 - val_binary_accuracy: 0.8100\n",
      "Epoch 53/100\n",
      "9532/9532 [==============================] - 51s 5ms/step - loss: 0.2685 - binary_accuracy: 0.8864 - val_loss: 0.4340 - val_binary_accuracy: 0.7987\n",
      "Epoch 54/100\n",
      "9532/9532 [==============================] - 50s 5ms/step - loss: 0.2626 - binary_accuracy: 0.8884 - val_loss: 0.4377 - val_binary_accuracy: 0.8117\n",
      "Epoch 55/100\n",
      "9532/9532 [==============================] - 47s 5ms/step - loss: 0.2637 - binary_accuracy: 0.8877 - val_loss: 0.4350 - val_binary_accuracy: 0.8091\n",
      "Epoch 56/100\n",
      "9532/9532 [==============================] - 49s 5ms/step - loss: 0.2535 - binary_accuracy: 0.8901 - val_loss: 0.4328 - val_binary_accuracy: 0.8129\n",
      "Epoch 57/100\n",
      "9532/9532 [==============================] - 47s 5ms/step - loss: 0.2465 - binary_accuracy: 0.8968 - val_loss: 0.4451 - val_binary_accuracy: 0.8142\n",
      "Epoch 58/100\n",
      "9532/9532 [==============================] - 50s 5ms/step - loss: 0.2425 - binary_accuracy: 0.8986 - val_loss: 0.4450 - val_binary_accuracy: 0.8054\n",
      "Epoch 59/100\n",
      "9532/9532 [==============================] - 43s 5ms/step - loss: 0.2427 - binary_accuracy: 0.9003 - val_loss: 0.4318 - val_binary_accuracy: 0.8175\n",
      "Epoch 60/100\n",
      "9532/9532 [==============================] - 43s 5ms/step - loss: 0.2334 - binary_accuracy: 0.9022 - val_loss: 0.4407 - val_binary_accuracy: 0.8129\n",
      "Epoch 61/100\n",
      "9532/9532 [==============================] - 45s 5ms/step - loss: 0.2303 - binary_accuracy: 0.9046 - val_loss: 0.4331 - val_binary_accuracy: 0.8075\n",
      "Epoch 62/100\n",
      "9532/9532 [==============================] - 44s 5ms/step - loss: 0.2261 - binary_accuracy: 0.9083 - val_loss: 0.4388 - val_binary_accuracy: 0.8121\n",
      "Epoch 63/100\n",
      "9532/9532 [==============================] - 45s 5ms/step - loss: 0.2220 - binary_accuracy: 0.9075 - val_loss: 0.4365 - val_binary_accuracy: 0.8138\n",
      "Epoch 64/100\n",
      "9532/9532 [==============================] - 44s 5ms/step - loss: 0.2198 - binary_accuracy: 0.9089 - val_loss: 0.4416 - val_binary_accuracy: 0.8163\n",
      "Epoch 65/100\n",
      "9532/9532 [==============================] - 45s 5ms/step - loss: 0.2144 - binary_accuracy: 0.9134 - val_loss: 0.4402 - val_binary_accuracy: 0.8142\n",
      "Epoch 66/100\n",
      "9532/9532 [==============================] - 42s 4ms/step - loss: 0.2149 - binary_accuracy: 0.9129 - val_loss: 0.4487 - val_binary_accuracy: 0.8045\n",
      "Epoch 67/100\n",
      "9532/9532 [==============================] - 44s 5ms/step - loss: 0.2051 - binary_accuracy: 0.9192 - val_loss: 0.4526 - val_binary_accuracy: 0.8163\n",
      "Epoch 68/100\n",
      "9532/9532 [==============================] - 44s 5ms/step - loss: 0.2086 - binary_accuracy: 0.9190 - val_loss: 0.4470 - val_binary_accuracy: 0.8146\n",
      "Epoch 69/100\n",
      "9532/9532 [==============================] - 46s 5ms/step - loss: 0.2041 - binary_accuracy: 0.9146 - val_loss: 0.4395 - val_binary_accuracy: 0.8133\n",
      "Epoch 70/100\n",
      "9532/9532 [==============================] - 49s 5ms/step - loss: 0.1918 - binary_accuracy: 0.9250 - val_loss: 0.4466 - val_binary_accuracy: 0.8159\n",
      "Epoch 71/100\n",
      "9532/9532 [==============================] - 46s 5ms/step - loss: 0.1896 - binary_accuracy: 0.9229 - val_loss: 0.4470 - val_binary_accuracy: 0.8230\n",
      "Epoch 72/100\n",
      "9532/9532 [==============================] - 44s 5ms/step - loss: 0.1941 - binary_accuracy: 0.9214 - val_loss: 0.4454 - val_binary_accuracy: 0.8150\n",
      "Epoch 73/100\n",
      "9532/9532 [==============================] - 43s 4ms/step - loss: 0.1875 - binary_accuracy: 0.9267 - val_loss: 0.4455 - val_binary_accuracy: 0.8167\n",
      "Epoch 74/100\n",
      "9532/9532 [==============================] - 41s 4ms/step - loss: 0.1858 - binary_accuracy: 0.9275 - val_loss: 0.4545 - val_binary_accuracy: 0.8180\n",
      "Epoch 75/100\n",
      "9532/9532 [==============================] - 41s 4ms/step - loss: 0.1836 - binary_accuracy: 0.9281 - val_loss: 0.4518 - val_binary_accuracy: 0.8196\n",
      "Epoch 76/100\n",
      "9532/9532 [==============================] - 43s 5ms/step - loss: 0.1775 - binary_accuracy: 0.9309 - val_loss: 0.4610 - val_binary_accuracy: 0.8150\n",
      "Epoch 77/100\n",
      "9532/9532 [==============================] - 43s 4ms/step - loss: 0.1744 - binary_accuracy: 0.9311 - val_loss: 0.4585 - val_binary_accuracy: 0.8142\n",
      "Epoch 78/100\n",
      "9532/9532 [==============================] - 43s 4ms/step - loss: 0.1665 - binary_accuracy: 0.9365 - val_loss: 0.4624 - val_binary_accuracy: 0.8159\n",
      "Epoch 79/100\n",
      "9532/9532 [==============================] - 43s 5ms/step - loss: 0.1623 - binary_accuracy: 0.9340 - val_loss: 0.4663 - val_binary_accuracy: 0.8171\n",
      "Epoch 80/100\n",
      "9532/9532 [==============================] - 41s 4ms/step - loss: 0.1648 - binary_accuracy: 0.9372 - val_loss: 0.4638 - val_binary_accuracy: 0.8188\n",
      "Epoch 81/100\n",
      "9532/9532 [==============================] - 40s 4ms/step - loss: 0.1650 - binary_accuracy: 0.9364 - val_loss: 0.4596 - val_binary_accuracy: 0.8163\n",
      "Epoch 82/100\n",
      "9532/9532 [==============================] - 40s 4ms/step - loss: 0.1592 - binary_accuracy: 0.9390 - val_loss: 0.4677 - val_binary_accuracy: 0.8230\n",
      "Epoch 83/100\n",
      "9532/9532 [==============================] - 41s 4ms/step - loss: 0.1544 - binary_accuracy: 0.9415 - val_loss: 0.4801 - val_binary_accuracy: 0.8213\n",
      "Epoch 84/100\n",
      "9532/9532 [==============================] - 43s 4ms/step - loss: 0.1584 - binary_accuracy: 0.9379 - val_loss: 0.4735 - val_binary_accuracy: 0.8242\n",
      "Epoch 85/100\n",
      "9532/9532 [==============================] - 42s 4ms/step - loss: 0.1539 - binary_accuracy: 0.9411 - val_loss: 0.4758 - val_binary_accuracy: 0.8163\n",
      "Epoch 86/100\n",
      "9532/9532 [==============================] - 40s 4ms/step - loss: 0.1544 - binary_accuracy: 0.9401 - val_loss: 0.4787 - val_binary_accuracy: 0.8121\n",
      "Epoch 87/100\n",
      "9532/9532 [==============================] - 40s 4ms/step - loss: 0.1484 - binary_accuracy: 0.9448 - val_loss: 0.4899 - val_binary_accuracy: 0.8221\n",
      "Epoch 88/100\n",
      "9532/9532 [==============================] - 39s 4ms/step - loss: 0.1448 - binary_accuracy: 0.9466 - val_loss: 0.5013 - val_binary_accuracy: 0.8184\n",
      "Epoch 89/100\n",
      "9532/9532 [==============================] - 39s 4ms/step - loss: 0.1428 - binary_accuracy: 0.9443 - val_loss: 0.4799 - val_binary_accuracy: 0.8175\n",
      "Epoch 90/100\n",
      "9532/9532 [==============================] - 38s 4ms/step - loss: 0.1419 - binary_accuracy: 0.9453 - val_loss: 0.4822 - val_binary_accuracy: 0.8129\n",
      "Epoch 91/100\n",
      "9532/9532 [==============================] - 38s 4ms/step - loss: 0.1321 - binary_accuracy: 0.9507 - val_loss: 0.4999 - val_binary_accuracy: 0.8192\n",
      "Epoch 92/100\n",
      "9532/9532 [==============================] - 38s 4ms/step - loss: 0.1368 - binary_accuracy: 0.9502 - val_loss: 0.4833 - val_binary_accuracy: 0.8163\n",
      "Epoch 93/100\n",
      "9532/9532 [==============================] - 38s 4ms/step - loss: 0.1285 - binary_accuracy: 0.9518 - val_loss: 0.4944 - val_binary_accuracy: 0.8192\n",
      "Epoch 94/100\n",
      "9532/9532 [==============================] - 38s 4ms/step - loss: 0.1300 - binary_accuracy: 0.9503 - val_loss: 0.4904 - val_binary_accuracy: 0.8171\n",
      "Epoch 95/100\n",
      "9532/9532 [==============================] - 38s 4ms/step - loss: 0.1317 - binary_accuracy: 0.9521 - val_loss: 0.4955 - val_binary_accuracy: 0.8079\n",
      "Epoch 96/100\n",
      "9532/9532 [==============================] - 38s 4ms/step - loss: 0.1339 - binary_accuracy: 0.9478 - val_loss: 0.4999 - val_binary_accuracy: 0.8213\n",
      "Epoch 97/100\n",
      "9532/9532 [==============================] - 38s 4ms/step - loss: 0.1242 - binary_accuracy: 0.9567 - val_loss: 0.5004 - val_binary_accuracy: 0.8226\n",
      "Epoch 98/100\n",
      "9532/9532 [==============================] - 38s 4ms/step - loss: 0.1237 - binary_accuracy: 0.9563 - val_loss: 0.5089 - val_binary_accuracy: 0.8196\n",
      "Epoch 99/100\n",
      "9532/9532 [==============================] - 38s 4ms/step - loss: 0.1198 - binary_accuracy: 0.9556 - val_loss: 0.5022 - val_binary_accuracy: 0.8221\n",
      "Epoch 100/100\n",
      "9532/9532 [==============================] - 38s 4ms/step - loss: 0.1227 - binary_accuracy: 0.9553 - val_loss: 0.5079 - val_binary_accuracy: 0.8205\n"
     ]
    },
    {
     "data": {
      "text/plain": [
       "<keras.callbacks.callbacks.History at 0x7fe894293f50>"
      ]
     },
     "execution_count": 13,
     "metadata": {},
     "output_type": "execute_result"
    }
   ],
   "source": [
    "model.compile(optimizer='adam', loss='binary_crossentropy', metrics=['binary_accuracy'])\n",
    "model.summary()\n",
    "model.fit(X_train_padded, Y_train, batch_size=128, validation_split=.2, epochs=100, verbose=1, use_multiprocessing=True, workers=4)"
   ]
  },
  {
   "cell_type": "markdown",
   "metadata": {},
   "source": [
    "## LSTM on avg"
   ]
  },
  {
   "cell_type": "code",
   "execution_count": 17,
   "metadata": {},
   "outputs": [],
   "source": [
    "data = util.load_dataset(\"os_reliable_w2v/avg.pkl\")\n",
    "df = util.load_selection_dataset(\"os_reliability.csv\")\n",
    "\n",
    "y = list(df.reliable)\n",
    "X = np.array(data)\n",
    "X = np.expand_dims(X, axis=1)\n",
    "#X_train, X_valid, Y_train, Y_valid = train_test_split(X, y, test_size=0.20, random_state=13)"
   ]
  },
  {
   "cell_type": "code",
   "execution_count": 18,
   "metadata": {},
   "outputs": [
    {
     "data": {
      "text/plain": [
       "(9352, 1, 300)"
      ]
     },
     "execution_count": 18,
     "metadata": {},
     "output_type": "execute_result"
    }
   ],
   "source": [
    "X.shape"
   ]
  },
  {
   "cell_type": "code",
   "execution_count": 26,
   "metadata": {},
   "outputs": [
    {
     "name": "stdout",
     "output_type": "stream",
     "text": [
      "WARNING:tensorflow:Large dropout rate: 0.8 (>0.5). In TensorFlow 2.x, dropout() uses dropout rate instead of keep_prob. Please ensure that this is intended.\n"
     ]
    }
   ],
   "source": [
    "model = keras.Sequential()\n",
    "#model.add(LSTM(32, return_sequences=True, input_shape=(None, 300)))\n",
    "#model.add(TimeDistributed(Dense(2, activation='sigmoid')))\n",
    "model.add(LSTM(128, return_sequences=True, input_shape=(1, 300)))\n",
    "model.add(LSTM(128))\n",
    "model.add(Dropout(.8))\n",
    "model.add(Dense(128, activation='sigmoid'))\n",
    "model.add(Dense(1, activation='sigmoid'))"
   ]
  },
  {
   "cell_type": "code",
   "execution_count": 28,
   "metadata": {},
   "outputs": [
    {
     "name": "stdout",
     "output_type": "stream",
     "text": [
      "Model: \"sequential_8\"\n",
      "_________________________________________________________________\n",
      "Layer (type)                 Output Shape              Param #   \n",
      "=================================================================\n",
      "lstm_14 (LSTM)               (None, 1, 128)            219648    \n",
      "_________________________________________________________________\n",
      "lstm_15 (LSTM)               (None, 128)               131584    \n",
      "_________________________________________________________________\n",
      "dropout_3 (Dropout)          (None, 128)               0         \n",
      "_________________________________________________________________\n",
      "dense_13 (Dense)             (None, 128)               16512     \n",
      "_________________________________________________________________\n",
      "dense_14 (Dense)             (None, 1)                 129       \n",
      "=================================================================\n",
      "Total params: 367,873\n",
      "Trainable params: 367,873\n",
      "Non-trainable params: 0\n",
      "_________________________________________________________________\n",
      "Train on 7481 samples, validate on 1871 samples\n",
      "Epoch 1/100\n",
      "7481/7481 [==============================] - 2s 288us/step - loss: 0.3553 - accuracy: 0.8404 - val_loss: 0.7901 - val_accuracy: 0.6034\n",
      "Epoch 2/100\n",
      "7481/7481 [==============================] - 1s 157us/step - loss: 0.3523 - accuracy: 0.8413 - val_loss: 0.8514 - val_accuracy: 0.5949\n",
      "Epoch 3/100\n",
      "7481/7481 [==============================] - 1s 155us/step - loss: 0.3481 - accuracy: 0.8451 - val_loss: 0.6132 - val_accuracy: 0.7082\n",
      "Epoch 4/100\n",
      "7481/7481 [==============================] - 1s 156us/step - loss: 0.3477 - accuracy: 0.8425 - val_loss: 0.9568 - val_accuracy: 0.5040\n",
      "Epoch 5/100\n",
      "7481/7481 [==============================] - 1s 155us/step - loss: 0.3457 - accuracy: 0.8447 - val_loss: 0.9194 - val_accuracy: 0.5398\n",
      "Epoch 6/100\n",
      "7481/7481 [==============================] - 1s 156us/step - loss: 0.3413 - accuracy: 0.8455 - val_loss: 0.7012 - val_accuracy: 0.6563\n",
      "Epoch 7/100\n",
      "7481/7481 [==============================] - 1s 155us/step - loss: 0.3450 - accuracy: 0.8433 - val_loss: 0.7590 - val_accuracy: 0.6307\n",
      "Epoch 8/100\n",
      "7481/7481 [==============================] - 1s 158us/step - loss: 0.3358 - accuracy: 0.8494 - val_loss: 0.7500 - val_accuracy: 0.6296\n",
      "Epoch 9/100\n",
      "7481/7481 [==============================] - 1s 159us/step - loss: 0.3444 - accuracy: 0.8461 - val_loss: 0.5378 - val_accuracy: 0.7483\n",
      "Epoch 10/100\n",
      "7481/7481 [==============================] - 1s 159us/step - loss: 0.3339 - accuracy: 0.8485 - val_loss: 0.6003 - val_accuracy: 0.7135\n",
      "Epoch 11/100\n",
      "7481/7481 [==============================] - 1s 159us/step - loss: 0.3359 - accuracy: 0.8502 - val_loss: 0.5690 - val_accuracy: 0.7274\n",
      "Epoch 12/100\n",
      "7481/7481 [==============================] - 1s 157us/step - loss: 0.3301 - accuracy: 0.8531 - val_loss: 0.5757 - val_accuracy: 0.7263\n",
      "Epoch 13/100\n",
      "7481/7481 [==============================] - 1s 161us/step - loss: 0.3298 - accuracy: 0.8475 - val_loss: 0.6360 - val_accuracy: 0.6702\n",
      "Epoch 14/100\n",
      "7481/7481 [==============================] - 1s 171us/step - loss: 0.3246 - accuracy: 0.8510 - val_loss: 0.5837 - val_accuracy: 0.7247\n",
      "Epoch 15/100\n",
      "7481/7481 [==============================] - 1s 165us/step - loss: 0.3225 - accuracy: 0.8542 - val_loss: 1.0481 - val_accuracy: 0.5024\n",
      "Epoch 16/100\n",
      "7481/7481 [==============================] - 1s 165us/step - loss: 0.3276 - accuracy: 0.8539 - val_loss: 0.7565 - val_accuracy: 0.6440\n",
      "Epoch 17/100\n",
      "7481/7481 [==============================] - 1s 170us/step - loss: 0.3220 - accuracy: 0.8530 - val_loss: 0.4753 - val_accuracy: 0.7830\n",
      "Epoch 18/100\n",
      "7481/7481 [==============================] - 1s 163us/step - loss: 0.3167 - accuracy: 0.8555 - val_loss: 0.7107 - val_accuracy: 0.6531\n",
      "Epoch 19/100\n",
      "7481/7481 [==============================] - 1s 166us/step - loss: 0.3098 - accuracy: 0.8623 - val_loss: 0.6928 - val_accuracy: 0.6740\n",
      "Epoch 20/100\n",
      "7481/7481 [==============================] - 1s 165us/step - loss: 0.3138 - accuracy: 0.8576 - val_loss: 1.0576 - val_accuracy: 0.4634\n",
      "Epoch 21/100\n",
      "7481/7481 [==============================] - 1s 160us/step - loss: 0.3074 - accuracy: 0.8631 - val_loss: 0.4569 - val_accuracy: 0.7958\n",
      "Epoch 22/100\n",
      "7481/7481 [==============================] - 1s 166us/step - loss: 0.3188 - accuracy: 0.8535 - val_loss: 0.8299 - val_accuracy: 0.5986\n",
      "Epoch 23/100\n",
      "7481/7481 [==============================] - 1s 166us/step - loss: 0.3040 - accuracy: 0.8673 - val_loss: 0.8084 - val_accuracy: 0.6152\n",
      "Epoch 24/100\n",
      "7481/7481 [==============================] - 1s 166us/step - loss: 0.3111 - accuracy: 0.8615 - val_loss: 0.9618 - val_accuracy: 0.5371\n",
      "Epoch 25/100\n",
      "7481/7481 [==============================] - 1s 188us/step - loss: 0.3002 - accuracy: 0.8657 - val_loss: 0.6374 - val_accuracy: 0.6970\n",
      "Epoch 26/100\n",
      "7481/7481 [==============================] - 1s 162us/step - loss: 0.2974 - accuracy: 0.8657 - val_loss: 0.4643 - val_accuracy: 0.8017\n",
      "Epoch 27/100\n",
      "7481/7481 [==============================] - 1s 172us/step - loss: 0.2999 - accuracy: 0.8630 - val_loss: 0.6192 - val_accuracy: 0.7146\n",
      "Epoch 28/100\n",
      "7481/7481 [==============================] - 1s 186us/step - loss: 0.2926 - accuracy: 0.8714 - val_loss: 0.5961 - val_accuracy: 0.7344\n",
      "Epoch 29/100\n",
      "7481/7481 [==============================] - 1s 160us/step - loss: 0.3013 - accuracy: 0.8619 - val_loss: 0.5448 - val_accuracy: 0.7445\n",
      "Epoch 30/100\n",
      "7481/7481 [==============================] - 1s 165us/step - loss: 0.2941 - accuracy: 0.8691 - val_loss: 0.7262 - val_accuracy: 0.6585\n",
      "Epoch 31/100\n",
      "7481/7481 [==============================] - 1s 175us/step - loss: 0.2875 - accuracy: 0.8714 - val_loss: 0.8917 - val_accuracy: 0.5895\n",
      "Epoch 32/100\n",
      "7481/7481 [==============================] - 1s 179us/step - loss: 0.2864 - accuracy: 0.8745 - val_loss: 0.9993 - val_accuracy: 0.5516\n",
      "Epoch 33/100\n",
      "7481/7481 [==============================] - 1s 185us/step - loss: 0.2823 - accuracy: 0.8765 - val_loss: 0.9355 - val_accuracy: 0.5714\n",
      "Epoch 34/100\n",
      "7481/7481 [==============================] - 1s 178us/step - loss: 0.2750 - accuracy: 0.8793 - val_loss: 0.9302 - val_accuracy: 0.5714\n",
      "Epoch 35/100\n",
      "7481/7481 [==============================] - 1s 184us/step - loss: 0.2855 - accuracy: 0.8717 - val_loss: 0.6422 - val_accuracy: 0.6991\n",
      "Epoch 36/100\n",
      "7481/7481 [==============================] - 1s 185us/step - loss: 0.2796 - accuracy: 0.8743 - val_loss: 0.9396 - val_accuracy: 0.5901\n",
      "Epoch 37/100\n",
      "7481/7481 [==============================] - 1s 198us/step - loss: 0.2959 - accuracy: 0.8675 - val_loss: 0.7709 - val_accuracy: 0.6291\n",
      "Epoch 38/100\n",
      "7481/7481 [==============================] - 1s 175us/step - loss: 0.2733 - accuracy: 0.8762 - val_loss: 1.0631 - val_accuracy: 0.5783\n",
      "Epoch 39/100\n",
      "7481/7481 [==============================] - 1s 184us/step - loss: 0.2665 - accuracy: 0.8841 - val_loss: 0.7463 - val_accuracy: 0.6937\n",
      "Epoch 40/100\n",
      "7481/7481 [==============================] - 1s 169us/step - loss: 0.2646 - accuracy: 0.8808 - val_loss: 0.6679 - val_accuracy: 0.7290\n",
      "Epoch 41/100\n",
      "7481/7481 [==============================] - 1s 188us/step - loss: 0.2668 - accuracy: 0.8824 - val_loss: 0.9323 - val_accuracy: 0.6291\n",
      "Epoch 42/100\n",
      "7481/7481 [==============================] - 2s 221us/step - loss: 0.2664 - accuracy: 0.8841 - val_loss: 1.0387 - val_accuracy: 0.5703\n",
      "Epoch 43/100\n",
      "7481/7481 [==============================] - 1s 178us/step - loss: 0.2623 - accuracy: 0.8883 - val_loss: 1.0060 - val_accuracy: 0.6072\n",
      "Epoch 44/100\n",
      "7481/7481 [==============================] - 1s 183us/step - loss: 0.2588 - accuracy: 0.8838 - val_loss: 0.7253 - val_accuracy: 0.7034\n",
      "Epoch 45/100\n",
      "7481/7481 [==============================] - 1s 171us/step - loss: 0.2694 - accuracy: 0.8792 - val_loss: 0.6321 - val_accuracy: 0.7541\n",
      "Epoch 46/100\n",
      "7481/7481 [==============================] - 1s 162us/step - loss: 0.2548 - accuracy: 0.8864 - val_loss: 0.9502 - val_accuracy: 0.6173\n",
      "Epoch 47/100\n",
      "7481/7481 [==============================] - 1s 161us/step - loss: 0.2593 - accuracy: 0.8845 - val_loss: 1.1819 - val_accuracy: 0.5051\n",
      "Epoch 48/100\n",
      "7481/7481 [==============================] - 1s 173us/step - loss: 0.2540 - accuracy: 0.8877 - val_loss: 0.7749 - val_accuracy: 0.6670\n",
      "Epoch 49/100\n",
      "7481/7481 [==============================] - 1s 171us/step - loss: 0.2494 - accuracy: 0.8888 - val_loss: 1.1805 - val_accuracy: 0.5323\n",
      "Epoch 50/100\n",
      "7481/7481 [==============================] - 1s 162us/step - loss: 0.2466 - accuracy: 0.8905 - val_loss: 0.7073 - val_accuracy: 0.7178\n",
      "Epoch 51/100\n",
      "7481/7481 [==============================] - 1s 159us/step - loss: 0.2438 - accuracy: 0.8929 - val_loss: 0.9447 - val_accuracy: 0.6227\n",
      "Epoch 52/100\n",
      "7481/7481 [==============================] - 1s 162us/step - loss: 0.2487 - accuracy: 0.8899 - val_loss: 0.6310 - val_accuracy: 0.7424\n",
      "Epoch 53/100\n",
      "7481/7481 [==============================] - 1s 159us/step - loss: 0.2464 - accuracy: 0.8935 - val_loss: 1.1953 - val_accuracy: 0.5505\n",
      "Epoch 54/100\n",
      "7481/7481 [==============================] - 1s 159us/step - loss: 0.2415 - accuracy: 0.8959 - val_loss: 1.2015 - val_accuracy: 0.5339\n",
      "Epoch 55/100\n",
      "7481/7481 [==============================] - 1s 164us/step - loss: 0.2397 - accuracy: 0.8940 - val_loss: 0.8356 - val_accuracy: 0.6756\n",
      "Epoch 56/100\n",
      "7481/7481 [==============================] - 1s 170us/step - loss: 0.2407 - accuracy: 0.8967 - val_loss: 0.7433 - val_accuracy: 0.7087\n",
      "Epoch 57/100\n",
      "7481/7481 [==============================] - 1s 161us/step - loss: 0.2340 - accuracy: 0.8996 - val_loss: 0.8686 - val_accuracy: 0.6713\n",
      "Epoch 58/100\n",
      "7481/7481 [==============================] - 1s 163us/step - loss: 0.2309 - accuracy: 0.8976 - val_loss: 0.8206 - val_accuracy: 0.6847\n",
      "Epoch 59/100\n",
      "7481/7481 [==============================] - 1s 164us/step - loss: 0.2344 - accuracy: 0.8981 - val_loss: 0.8074 - val_accuracy: 0.6927\n",
      "Epoch 60/100\n",
      "7481/7481 [==============================] - 2s 211us/step - loss: 0.2345 - accuracy: 0.8973 - val_loss: 0.7611 - val_accuracy: 0.6964\n",
      "Epoch 61/100\n",
      "7481/7481 [==============================] - 2s 252us/step - loss: 0.2316 - accuracy: 0.8968 - val_loss: 0.8492 - val_accuracy: 0.6638\n",
      "Epoch 62/100\n",
      "7481/7481 [==============================] - 1s 198us/step - loss: 0.2289 - accuracy: 0.9034 - val_loss: 1.0358 - val_accuracy: 0.6253\n",
      "Epoch 63/100\n",
      "7481/7481 [==============================] - 1s 171us/step - loss: 0.2223 - accuracy: 0.9080 - val_loss: 1.1704 - val_accuracy: 0.5756\n",
      "Epoch 64/100\n",
      "7481/7481 [==============================] - 1s 178us/step - loss: 0.2291 - accuracy: 0.9009 - val_loss: 0.9112 - val_accuracy: 0.6430\n",
      "Epoch 65/100\n",
      "7481/7481 [==============================] - 1s 164us/step - loss: 0.2219 - accuracy: 0.9032 - val_loss: 0.9172 - val_accuracy: 0.6644\n",
      "Epoch 66/100\n",
      "7481/7481 [==============================] - 1s 170us/step - loss: 0.2187 - accuracy: 0.9047 - val_loss: 0.8655 - val_accuracy: 0.6724\n",
      "Epoch 67/100\n",
      "7481/7481 [==============================] - 1s 194us/step - loss: 0.2178 - accuracy: 0.9046 - val_loss: 1.0040 - val_accuracy: 0.6104\n",
      "Epoch 68/100\n",
      "7481/7481 [==============================] - 2s 221us/step - loss: 0.2191 - accuracy: 0.9020 - val_loss: 0.9817 - val_accuracy: 0.6451\n",
      "Epoch 69/100\n",
      "7481/7481 [==============================] - 1s 170us/step - loss: 0.2153 - accuracy: 0.9066 - val_loss: 0.6449 - val_accuracy: 0.7696\n",
      "Epoch 70/100\n",
      "7481/7481 [==============================] - 1s 189us/step - loss: 0.2118 - accuracy: 0.9062 - val_loss: 1.0478 - val_accuracy: 0.6499\n",
      "Epoch 71/100\n",
      "7481/7481 [==============================] - 1s 189us/step - loss: 0.2087 - accuracy: 0.9111 - val_loss: 0.9160 - val_accuracy: 0.6921\n",
      "Epoch 72/100\n",
      "7481/7481 [==============================] - 1s 171us/step - loss: 0.2213 - accuracy: 0.9040 - val_loss: 1.0288 - val_accuracy: 0.6344\n",
      "Epoch 73/100\n",
      "7481/7481 [==============================] - 2s 217us/step - loss: 0.1994 - accuracy: 0.9144 - val_loss: 0.8911 - val_accuracy: 0.7044\n",
      "Epoch 74/100\n",
      "7481/7481 [==============================] - 1s 171us/step - loss: 0.2035 - accuracy: 0.9138 - val_loss: 1.1657 - val_accuracy: 0.6408\n",
      "Epoch 75/100\n",
      "7481/7481 [==============================] - 1s 171us/step - loss: 0.2041 - accuracy: 0.9119 - val_loss: 0.7768 - val_accuracy: 0.7130\n",
      "Epoch 76/100\n",
      "7481/7481 [==============================] - 1s 154us/step - loss: 0.2012 - accuracy: 0.9130 - val_loss: 1.1499 - val_accuracy: 0.6130\n",
      "Epoch 77/100\n",
      "7481/7481 [==============================] - 1s 168us/step - loss: 0.2052 - accuracy: 0.9114 - val_loss: 0.7213 - val_accuracy: 0.7573\n",
      "Epoch 78/100\n",
      "7481/7481 [==============================] - 1s 175us/step - loss: 0.2050 - accuracy: 0.9096 - val_loss: 1.1917 - val_accuracy: 0.6152\n",
      "Epoch 79/100\n",
      "7481/7481 [==============================] - 1s 158us/step - loss: 0.1975 - accuracy: 0.9158 - val_loss: 1.1343 - val_accuracy: 0.6339\n",
      "Epoch 80/100\n",
      "7481/7481 [==============================] - 1s 158us/step - loss: 0.1940 - accuracy: 0.9173 - val_loss: 1.2851 - val_accuracy: 0.5847\n",
      "Epoch 81/100\n",
      "7481/7481 [==============================] - 1s 158us/step - loss: 0.2038 - accuracy: 0.9056 - val_loss: 1.4026 - val_accuracy: 0.5778\n",
      "Epoch 82/100\n",
      "7481/7481 [==============================] - 1s 159us/step - loss: 0.1955 - accuracy: 0.9185 - val_loss: 0.9989 - val_accuracy: 0.6660\n",
      "Epoch 83/100\n",
      "7481/7481 [==============================] - 1s 161us/step - loss: 0.1964 - accuracy: 0.9154 - val_loss: 0.7361 - val_accuracy: 0.7509\n",
      "Epoch 84/100\n",
      "7481/7481 [==============================] - 1s 156us/step - loss: 0.1871 - accuracy: 0.9215 - val_loss: 1.0729 - val_accuracy: 0.6670\n",
      "Epoch 85/100\n",
      "7481/7481 [==============================] - 1s 167us/step - loss: 0.1907 - accuracy: 0.9197 - val_loss: 1.0090 - val_accuracy: 0.6868\n",
      "Epoch 86/100\n",
      "7481/7481 [==============================] - 1s 157us/step - loss: 0.1908 - accuracy: 0.9167 - val_loss: 1.2830 - val_accuracy: 0.6264\n",
      "Epoch 87/100\n",
      "7481/7481 [==============================] - 1s 157us/step - loss: 0.1788 - accuracy: 0.9249 - val_loss: 1.2225 - val_accuracy: 0.6216\n",
      "Epoch 88/100\n",
      "7481/7481 [==============================] - 1s 186us/step - loss: 0.1833 - accuracy: 0.9206 - val_loss: 0.8044 - val_accuracy: 0.7557\n",
      "Epoch 89/100\n",
      "7481/7481 [==============================] - 1s 167us/step - loss: 0.1798 - accuracy: 0.9242 - val_loss: 0.9789 - val_accuracy: 0.7028\n",
      "Epoch 90/100\n",
      "7481/7481 [==============================] - 1s 166us/step - loss: 0.1755 - accuracy: 0.9262 - val_loss: 0.9066 - val_accuracy: 0.7215\n",
      "Epoch 91/100\n",
      "7481/7481 [==============================] - 1s 160us/step - loss: 0.1825 - accuracy: 0.9215 - val_loss: 1.0445 - val_accuracy: 0.6724\n",
      "Epoch 92/100\n",
      "7481/7481 [==============================] - 1s 154us/step - loss: 0.1796 - accuracy: 0.9243 - val_loss: 1.4974 - val_accuracy: 0.5724\n",
      "Epoch 93/100\n",
      "7481/7481 [==============================] - 1s 157us/step - loss: 0.1763 - accuracy: 0.9242 - val_loss: 1.0289 - val_accuracy: 0.6852\n",
      "Epoch 94/100\n",
      "7481/7481 [==============================] - 1s 157us/step - loss: 0.1810 - accuracy: 0.9223 - val_loss: 1.2096 - val_accuracy: 0.6606\n",
      "Epoch 95/100\n",
      "7481/7481 [==============================] - 1s 157us/step - loss: 0.1720 - accuracy: 0.9270 - val_loss: 1.1702 - val_accuracy: 0.6569\n",
      "Epoch 96/100\n",
      "7481/7481 [==============================] - 1s 155us/step - loss: 0.1763 - accuracy: 0.9271 - val_loss: 0.7318 - val_accuracy: 0.7761\n",
      "Epoch 97/100\n",
      "7481/7481 [==============================] - 1s 158us/step - loss: 0.1745 - accuracy: 0.9250 - val_loss: 1.0697 - val_accuracy: 0.7018\n",
      "Epoch 98/100\n",
      "7481/7481 [==============================] - 1s 162us/step - loss: 0.1746 - accuracy: 0.9269 - val_loss: 1.4964 - val_accuracy: 0.6024\n",
      "Epoch 99/100\n",
      "7481/7481 [==============================] - 1s 157us/step - loss: 0.1627 - accuracy: 0.9314 - val_loss: 1.4258 - val_accuracy: 0.6344\n",
      "Epoch 100/100\n",
      "7481/7481 [==============================] - 1s 157us/step - loss: 0.1616 - accuracy: 0.9306 - val_loss: 1.2073 - val_accuracy: 0.6638\n"
     ]
    },
    {
     "data": {
      "text/plain": [
       "<keras.callbacks.callbacks.History at 0x7fb712b49f90>"
      ]
     },
     "execution_count": 28,
     "metadata": {},
     "output_type": "execute_result"
    }
   ],
   "source": [
    "model.compile(optimizer='adam', loss='binary_crossentropy', metrics=['accuracy'])\n",
    "model.summary()\n",
    "model.fit(X, y, batch_size=64, validation_split=.2, epochs=100, verbose=1, use_multiprocessing=True, workers=4)"
   ]
  }
 ],
 "metadata": {
  "kernelspec": {
   "display_name": "Python 3",
   "language": "python",
   "name": "python3"
  },
  "language_info": {
   "codemirror_mode": {
    "name": "ipython",
    "version": 3
   },
   "file_extension": ".py",
   "mimetype": "text/x-python",
   "name": "python",
   "nbconvert_exporter": "python",
   "pygments_lexer": "ipython3",
   "version": "3.7.4"
  }
 },
 "nbformat": 4,
 "nbformat_minor": 4
}
